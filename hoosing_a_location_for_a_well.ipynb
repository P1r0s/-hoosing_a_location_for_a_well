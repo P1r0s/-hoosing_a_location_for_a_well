{
 "cells": [
  {
   "cell_type": "markdown",
   "metadata": {},
   "source": [
    "# Выбор локации для скважины"
   ]
  },
  {
   "cell_type": "markdown",
   "metadata": {},
   "source": [
    "Нужно решить, где бурить новую скважину.\n",
    "\n",
    "Нам предоставлены пробы нефти в трёх регионах: в каждом 10 000 месторождений, где измерили качество нефти и объём её запасов. Построим модель машинного обучения, которая поможет определить регион, где добыча принесёт наибольшую прибыль. Проанализируем возможную прибыль и риски техникой *Bootstrap.*\n",
    "\n",
    "Шаги для выбора локации:\n",
    "\n",
    "- В избранном регионе ищут месторождения, для каждого определяют значения признаков;\n",
    "- Строят модель и оценивают объём запасов;\n",
    "- Выбирают месторождения с самым высокими оценками значений. Количество месторождений зависит от бюджета компании и стоимости разработки одной скважины;\n",
    "- Прибыль равна суммарной прибыли отобранных месторождений."
   ]
  },
  {
   "cell_type": "markdown",
   "metadata": {},
   "source": [
    "Условия задачи:\n",
    "\n",
    "Для обучения модели подходит только линейная регрессия (остальные — недостаточно предсказуемые).\n",
    "\n",
    "При разведке региона исследуют 500 точек, из которых с помощью машинного обучения выбирают 200 лучших для разработки.\n",
    "\n",
    "Бюджет на разработку скважин в регионе — 10 млрд рублей.\n",
    "\n",
    "При нынешних ценах один баррель сырья приносит 450 рублей дохода. Доход с каждой единицы продукта составляет 450 тыс. рублей, поскольку объём указан в тысячах баррелей.\n",
    "\n",
    "После оценки рисков нужно оставить лишь те регионы, в которых вероятность убытков меньше 2.5%. Среди них выбирают регион с наибольшей средней прибылью."
   ]
  },
  {
   "cell_type": "markdown",
   "metadata": {},
   "source": [
    "## Загрузка и подготовка данных"
   ]
  },
  {
   "cell_type": "markdown",
   "metadata": {},
   "source": [
    "### Имортируем все необходимые инструмены"
   ]
  },
  {
   "cell_type": "code",
   "execution_count": 1,
   "metadata": {},
   "outputs": [],
   "source": [
    "import pandas as pd\n",
    "import numpy as np\n",
    "from scipy import stats as st\n",
    "import seaborn as sns\n",
    "import matplotlib.pyplot as plt\n",
    "from sklearn.preprocessing import StandardScaler\n",
    "from sklearn.utils import shuffle\n",
    "from sklearn.dummy import DummyClassifier\n",
    "from sklearn.ensemble import RandomForestRegressor\n",
    "from sklearn.linear_model import LinearRegression\n",
    "from sklearn.metrics import (\n",
    "    accuracy_score, \n",
    "    confusion_matrix, \n",
    "    f1_score, \n",
    "    mean_squared_error, \n",
    "    roc_auc_score,\n",
    "    precision_recall_curve,\n",
    "    roc_curve,\n",
    "    recall_score,\n",
    "    precision_score\n",
    ")\n",
    "from sklearn.model_selection import (\n",
    "    train_test_split,\n",
    "    cross_val_score\n",
    ")"
   ]
  },
  {
   "cell_type": "code",
   "execution_count": 2,
   "metadata": {},
   "outputs": [],
   "source": [
    "state = np.random.RandomState(12345)"
   ]
  },
  {
   "cell_type": "markdown",
   "metadata": {},
   "source": [
    "### Загрузим все 3 таблицы"
   ]
  },
  {
   "cell_type": "code",
   "execution_count": 3,
   "metadata": {},
   "outputs": [],
   "source": [
    "try:\n",
    "    data_0 = pd.read_csv(\"geo_data_0.csv\")\n",
    "except:\n",
    "    data_0 = pd.read_csv('/datasets/geo_data_0.csv')\n",
    "try:\n",
    "    data_1 = pd.read_csv(\"geo_data_1.csv\")\n",
    "except:\n",
    "    data_1 = pd.read_csv('/datasets/geo_data_1.csv')\n",
    "try:\n",
    "    data_2 = pd.read_csv(\"geo_data_2.csv\")\n",
    "except:\n",
    "    data_2 = pd.read_csv('/datasets/geo_data_2.csv')"
   ]
  },
  {
   "cell_type": "markdown",
   "metadata": {},
   "source": [
    "### Посмотрим \"шапки\" того что загрузили"
   ]
  },
  {
   "cell_type": "code",
   "execution_count": 4,
   "metadata": {},
   "outputs": [
    {
     "data": {
      "text/html": [
       "<div>\n",
       "<style scoped>\n",
       "    .dataframe tbody tr th:only-of-type {\n",
       "        vertical-align: middle;\n",
       "    }\n",
       "\n",
       "    .dataframe tbody tr th {\n",
       "        vertical-align: top;\n",
       "    }\n",
       "\n",
       "    .dataframe thead th {\n",
       "        text-align: right;\n",
       "    }\n",
       "</style>\n",
       "<table border=\"1\" class=\"dataframe\">\n",
       "  <thead>\n",
       "    <tr style=\"text-align: right;\">\n",
       "      <th></th>\n",
       "      <th>id</th>\n",
       "      <th>f0</th>\n",
       "      <th>f1</th>\n",
       "      <th>f2</th>\n",
       "      <th>product</th>\n",
       "    </tr>\n",
       "  </thead>\n",
       "  <tbody>\n",
       "    <tr>\n",
       "      <th>0</th>\n",
       "      <td>txEyH</td>\n",
       "      <td>0.705745</td>\n",
       "      <td>-0.497823</td>\n",
       "      <td>1.221170</td>\n",
       "      <td>105.280062</td>\n",
       "    </tr>\n",
       "    <tr>\n",
       "      <th>1</th>\n",
       "      <td>2acmU</td>\n",
       "      <td>1.334711</td>\n",
       "      <td>-0.340164</td>\n",
       "      <td>4.365080</td>\n",
       "      <td>73.037750</td>\n",
       "    </tr>\n",
       "    <tr>\n",
       "      <th>2</th>\n",
       "      <td>409Wp</td>\n",
       "      <td>1.022732</td>\n",
       "      <td>0.151990</td>\n",
       "      <td>1.419926</td>\n",
       "      <td>85.265647</td>\n",
       "    </tr>\n",
       "    <tr>\n",
       "      <th>3</th>\n",
       "      <td>iJLyR</td>\n",
       "      <td>-0.032172</td>\n",
       "      <td>0.139033</td>\n",
       "      <td>2.978566</td>\n",
       "      <td>168.620776</td>\n",
       "    </tr>\n",
       "    <tr>\n",
       "      <th>4</th>\n",
       "      <td>Xdl7t</td>\n",
       "      <td>1.988431</td>\n",
       "      <td>0.155413</td>\n",
       "      <td>4.751769</td>\n",
       "      <td>154.036647</td>\n",
       "    </tr>\n",
       "  </tbody>\n",
       "</table>\n",
       "</div>"
      ],
      "text/plain": [
       "      id        f0        f1        f2     product\n",
       "0  txEyH  0.705745 -0.497823  1.221170  105.280062\n",
       "1  2acmU  1.334711 -0.340164  4.365080   73.037750\n",
       "2  409Wp  1.022732  0.151990  1.419926   85.265647\n",
       "3  iJLyR -0.032172  0.139033  2.978566  168.620776\n",
       "4  Xdl7t  1.988431  0.155413  4.751769  154.036647"
      ]
     },
     "execution_count": 4,
     "metadata": {},
     "output_type": "execute_result"
    }
   ],
   "source": [
    "data_0.head()"
   ]
  },
  {
   "cell_type": "code",
   "execution_count": 5,
   "metadata": {
    "scrolled": true
   },
   "outputs": [
    {
     "data": {
      "text/html": [
       "<div>\n",
       "<style scoped>\n",
       "    .dataframe tbody tr th:only-of-type {\n",
       "        vertical-align: middle;\n",
       "    }\n",
       "\n",
       "    .dataframe tbody tr th {\n",
       "        vertical-align: top;\n",
       "    }\n",
       "\n",
       "    .dataframe thead th {\n",
       "        text-align: right;\n",
       "    }\n",
       "</style>\n",
       "<table border=\"1\" class=\"dataframe\">\n",
       "  <thead>\n",
       "    <tr style=\"text-align: right;\">\n",
       "      <th></th>\n",
       "      <th>id</th>\n",
       "      <th>f0</th>\n",
       "      <th>f1</th>\n",
       "      <th>f2</th>\n",
       "      <th>product</th>\n",
       "    </tr>\n",
       "  </thead>\n",
       "  <tbody>\n",
       "    <tr>\n",
       "      <th>0</th>\n",
       "      <td>kBEdx</td>\n",
       "      <td>-15.001348</td>\n",
       "      <td>-8.276000</td>\n",
       "      <td>-0.005876</td>\n",
       "      <td>3.179103</td>\n",
       "    </tr>\n",
       "    <tr>\n",
       "      <th>1</th>\n",
       "      <td>62mP7</td>\n",
       "      <td>14.272088</td>\n",
       "      <td>-3.475083</td>\n",
       "      <td>0.999183</td>\n",
       "      <td>26.953261</td>\n",
       "    </tr>\n",
       "    <tr>\n",
       "      <th>2</th>\n",
       "      <td>vyE1P</td>\n",
       "      <td>6.263187</td>\n",
       "      <td>-5.948386</td>\n",
       "      <td>5.001160</td>\n",
       "      <td>134.766305</td>\n",
       "    </tr>\n",
       "    <tr>\n",
       "      <th>3</th>\n",
       "      <td>KcrkZ</td>\n",
       "      <td>-13.081196</td>\n",
       "      <td>-11.506057</td>\n",
       "      <td>4.999415</td>\n",
       "      <td>137.945408</td>\n",
       "    </tr>\n",
       "    <tr>\n",
       "      <th>4</th>\n",
       "      <td>AHL4O</td>\n",
       "      <td>12.702195</td>\n",
       "      <td>-8.147433</td>\n",
       "      <td>5.004363</td>\n",
       "      <td>134.766305</td>\n",
       "    </tr>\n",
       "  </tbody>\n",
       "</table>\n",
       "</div>"
      ],
      "text/plain": [
       "      id         f0         f1        f2     product\n",
       "0  kBEdx -15.001348  -8.276000 -0.005876    3.179103\n",
       "1  62mP7  14.272088  -3.475083  0.999183   26.953261\n",
       "2  vyE1P   6.263187  -5.948386  5.001160  134.766305\n",
       "3  KcrkZ -13.081196 -11.506057  4.999415  137.945408\n",
       "4  AHL4O  12.702195  -8.147433  5.004363  134.766305"
      ]
     },
     "execution_count": 5,
     "metadata": {},
     "output_type": "execute_result"
    }
   ],
   "source": [
    "data_1.head()"
   ]
  },
  {
   "cell_type": "code",
   "execution_count": 6,
   "metadata": {},
   "outputs": [
    {
     "data": {
      "text/html": [
       "<div>\n",
       "<style scoped>\n",
       "    .dataframe tbody tr th:only-of-type {\n",
       "        vertical-align: middle;\n",
       "    }\n",
       "\n",
       "    .dataframe tbody tr th {\n",
       "        vertical-align: top;\n",
       "    }\n",
       "\n",
       "    .dataframe thead th {\n",
       "        text-align: right;\n",
       "    }\n",
       "</style>\n",
       "<table border=\"1\" class=\"dataframe\">\n",
       "  <thead>\n",
       "    <tr style=\"text-align: right;\">\n",
       "      <th></th>\n",
       "      <th>id</th>\n",
       "      <th>f0</th>\n",
       "      <th>f1</th>\n",
       "      <th>f2</th>\n",
       "      <th>product</th>\n",
       "    </tr>\n",
       "  </thead>\n",
       "  <tbody>\n",
       "    <tr>\n",
       "      <th>0</th>\n",
       "      <td>fwXo0</td>\n",
       "      <td>-1.146987</td>\n",
       "      <td>0.963328</td>\n",
       "      <td>-0.828965</td>\n",
       "      <td>27.758673</td>\n",
       "    </tr>\n",
       "    <tr>\n",
       "      <th>1</th>\n",
       "      <td>WJtFt</td>\n",
       "      <td>0.262778</td>\n",
       "      <td>0.269839</td>\n",
       "      <td>-2.530187</td>\n",
       "      <td>56.069697</td>\n",
       "    </tr>\n",
       "    <tr>\n",
       "      <th>2</th>\n",
       "      <td>ovLUW</td>\n",
       "      <td>0.194587</td>\n",
       "      <td>0.289035</td>\n",
       "      <td>-5.586433</td>\n",
       "      <td>62.871910</td>\n",
       "    </tr>\n",
       "    <tr>\n",
       "      <th>3</th>\n",
       "      <td>q6cA6</td>\n",
       "      <td>2.236060</td>\n",
       "      <td>-0.553760</td>\n",
       "      <td>0.930038</td>\n",
       "      <td>114.572842</td>\n",
       "    </tr>\n",
       "    <tr>\n",
       "      <th>4</th>\n",
       "      <td>WPMUX</td>\n",
       "      <td>-0.515993</td>\n",
       "      <td>1.716266</td>\n",
       "      <td>5.899011</td>\n",
       "      <td>149.600746</td>\n",
       "    </tr>\n",
       "  </tbody>\n",
       "</table>\n",
       "</div>"
      ],
      "text/plain": [
       "      id        f0        f1        f2     product\n",
       "0  fwXo0 -1.146987  0.963328 -0.828965   27.758673\n",
       "1  WJtFt  0.262778  0.269839 -2.530187   56.069697\n",
       "2  ovLUW  0.194587  0.289035 -5.586433   62.871910\n",
       "3  q6cA6  2.236060 -0.553760  0.930038  114.572842\n",
       "4  WPMUX -0.515993  1.716266  5.899011  149.600746"
      ]
     },
     "execution_count": 6,
     "metadata": {},
     "output_type": "execute_result"
    }
   ],
   "source": [
    "data_2.head()"
   ]
  },
  {
   "cell_type": "markdown",
   "metadata": {},
   "source": [
    "***Признаки:***\n",
    "\n",
    "**id — уникальный идентификатор скважины;**\n",
    "\n",
    "**f0, f1, f2 — три признака точек (неважно, что они означают, но сами признаки значимы);**\n",
    "\n",
    "***Целевой признак:***\n",
    "\n",
    "**product — объём запасов в скважине (тыс. баррелей).**"
   ]
  },
  {
   "cell_type": "markdown",
   "metadata": {},
   "source": [
    "### Посмотрим колличество данных и типы столбцов"
   ]
  },
  {
   "cell_type": "code",
   "execution_count": 7,
   "metadata": {},
   "outputs": [
    {
     "name": "stdout",
     "output_type": "stream",
     "text": [
      "<class 'pandas.core.frame.DataFrame'>\n",
      "RangeIndex: 100000 entries, 0 to 99999\n",
      "Data columns (total 5 columns):\n",
      " #   Column   Non-Null Count   Dtype  \n",
      "---  ------   --------------   -----  \n",
      " 0   id       100000 non-null  object \n",
      " 1   f0       100000 non-null  float64\n",
      " 2   f1       100000 non-null  float64\n",
      " 3   f2       100000 non-null  float64\n",
      " 4   product  100000 non-null  float64\n",
      "dtypes: float64(4), object(1)\n",
      "memory usage: 3.8+ MB\n"
     ]
    }
   ],
   "source": [
    "data_0.info()"
   ]
  },
  {
   "cell_type": "code",
   "execution_count": 8,
   "metadata": {},
   "outputs": [
    {
     "name": "stdout",
     "output_type": "stream",
     "text": [
      "<class 'pandas.core.frame.DataFrame'>\n",
      "RangeIndex: 100000 entries, 0 to 99999\n",
      "Data columns (total 5 columns):\n",
      " #   Column   Non-Null Count   Dtype  \n",
      "---  ------   --------------   -----  \n",
      " 0   id       100000 non-null  object \n",
      " 1   f0       100000 non-null  float64\n",
      " 2   f1       100000 non-null  float64\n",
      " 3   f2       100000 non-null  float64\n",
      " 4   product  100000 non-null  float64\n",
      "dtypes: float64(4), object(1)\n",
      "memory usage: 3.8+ MB\n"
     ]
    }
   ],
   "source": [
    "data_1.info()"
   ]
  },
  {
   "cell_type": "code",
   "execution_count": 9,
   "metadata": {
    "scrolled": true
   },
   "outputs": [
    {
     "name": "stdout",
     "output_type": "stream",
     "text": [
      "<class 'pandas.core.frame.DataFrame'>\n",
      "RangeIndex: 100000 entries, 0 to 99999\n",
      "Data columns (total 5 columns):\n",
      " #   Column   Non-Null Count   Dtype  \n",
      "---  ------   --------------   -----  \n",
      " 0   id       100000 non-null  object \n",
      " 1   f0       100000 non-null  float64\n",
      " 2   f1       100000 non-null  float64\n",
      " 3   f2       100000 non-null  float64\n",
      " 4   product  100000 non-null  float64\n",
      "dtypes: float64(4), object(1)\n",
      "memory usage: 3.8+ MB\n"
     ]
    }
   ],
   "source": [
    "data_2.info()"
   ]
  },
  {
   "cell_type": "markdown",
   "metadata": {},
   "source": [
    "### Проверим данные на пропуски"
   ]
  },
  {
   "cell_type": "code",
   "execution_count": 10,
   "metadata": {},
   "outputs": [
    {
     "data": {
      "text/plain": [
       "id         0\n",
       "f0         0\n",
       "f1         0\n",
       "f2         0\n",
       "product    0\n",
       "dtype: int64"
      ]
     },
     "execution_count": 10,
     "metadata": {},
     "output_type": "execute_result"
    }
   ],
   "source": [
    "data_0.isna().sum()"
   ]
  },
  {
   "cell_type": "code",
   "execution_count": 11,
   "metadata": {},
   "outputs": [
    {
     "data": {
      "text/plain": [
       "id         0\n",
       "f0         0\n",
       "f1         0\n",
       "f2         0\n",
       "product    0\n",
       "dtype: int64"
      ]
     },
     "execution_count": 11,
     "metadata": {},
     "output_type": "execute_result"
    }
   ],
   "source": [
    "data_1.isna().sum()"
   ]
  },
  {
   "cell_type": "code",
   "execution_count": 12,
   "metadata": {},
   "outputs": [
    {
     "data": {
      "text/plain": [
       "id         0\n",
       "f0         0\n",
       "f1         0\n",
       "f2         0\n",
       "product    0\n",
       "dtype: int64"
      ]
     },
     "execution_count": 12,
     "metadata": {},
     "output_type": "execute_result"
    }
   ],
   "source": [
    "data_2.isna().sum()"
   ]
  },
  {
   "cell_type": "markdown",
   "metadata": {},
   "source": [
    "**Пропусков не наблюдается**"
   ]
  },
  {
   "cell_type": "markdown",
   "metadata": {},
   "source": [
    "### Поищем дубликаты"
   ]
  },
  {
   "cell_type": "code",
   "execution_count": 13,
   "metadata": {},
   "outputs": [
    {
     "data": {
      "text/plain": [
       "0"
      ]
     },
     "execution_count": 13,
     "metadata": {},
     "output_type": "execute_result"
    }
   ],
   "source": [
    "data_0.duplicated().sum()"
   ]
  },
  {
   "cell_type": "code",
   "execution_count": 14,
   "metadata": {},
   "outputs": [
    {
     "data": {
      "text/plain": [
       "0"
      ]
     },
     "execution_count": 14,
     "metadata": {},
     "output_type": "execute_result"
    }
   ],
   "source": [
    "data_1.duplicated().sum()"
   ]
  },
  {
   "cell_type": "code",
   "execution_count": 15,
   "metadata": {},
   "outputs": [
    {
     "data": {
      "text/plain": [
       "0"
      ]
     },
     "execution_count": 15,
     "metadata": {},
     "output_type": "execute_result"
    }
   ],
   "source": [
    "data_2.duplicated().sum()"
   ]
  },
  {
   "cell_type": "markdown",
   "metadata": {},
   "source": [
    "**Дубликатов в данных не наблюдается**"
   ]
  },
  {
   "cell_type": "markdown",
   "metadata": {},
   "source": [
    "### Избавимся от столбцов что нам не понадобятся"
   ]
  },
  {
   "cell_type": "markdown",
   "metadata": {},
   "source": [
    "**Столбцы id нам не понадобятся**"
   ]
  },
  {
   "cell_type": "code",
   "execution_count": 16,
   "metadata": {},
   "outputs": [],
   "source": [
    "data_0.drop(columns=['id'],axis=1,inplace=True)\n",
    "data_1.drop(columns=['id'],axis=1,inplace=True)\n",
    "data_2.drop(columns=['id'],axis=1,inplace=True)"
   ]
  },
  {
   "cell_type": "markdown",
   "metadata": {},
   "source": [
    "### Разделим данные на обучающую и валидационную выборки"
   ]
  },
  {
   "cell_type": "markdown",
   "metadata": {},
   "source": [
    "**Разделим набор данных на обучающую (train(75%)) и валидационную (validate(25%)) выборки. В random_state положим значение 12345**"
   ]
  },
  {
   "cell_type": "code",
   "execution_count": 17,
   "metadata": {},
   "outputs": [],
   "source": [
    "train_0, validate_0 = \\\n",
    "              np.split(data_0.sample(frac=1, random_state=12345), \n",
    "                       [int(.75*len(data_0))])\n",
    "train_1, validate_1 = \\\n",
    "              np.split(data_1.sample(frac=1, random_state=12345), \n",
    "                       [int(.75*len(data_1))])\n",
    "train_2, validate_2 = \\\n",
    "              np.split(data_2.sample(frac=1, random_state=12345), \n",
    "                       [int(.75*len(data_2))])"
   ]
  },
  {
   "cell_type": "code",
   "execution_count": 18,
   "metadata": {},
   "outputs": [],
   "source": [
    "target_0 = data_0['product']\n",
    "features_0 = data_0.drop('product', axis=1)\n",
    "target_1 = data_1['product']\n",
    "features_1 = data_1.drop('product', axis=1)\n",
    "target_2 = data_2['product']\n",
    "features_2 = data_2.drop('product', axis=1)"
   ]
  },
  {
   "cell_type": "code",
   "execution_count": 19,
   "metadata": {},
   "outputs": [],
   "source": [
    "features_train_0 = train_0.drop(['product'], axis=1)\n",
    "target_train_0 = train_0['product']\n",
    "features_valid_0 = validate_0.drop(['product'], axis=1)\n",
    "target_valid_0 = validate_0['product']\n",
    "features_train_1 = train_1.drop(['product'], axis=1)\n",
    "target_train_1 = train_1['product']\n",
    "features_valid_1 = validate_1.drop(['product'], axis=1)\n",
    "target_valid_1 = validate_1['product']\n",
    "features_train_2 = train_2.drop(['product'], axis=1)\n",
    "target_train_2 = train_2['product']\n",
    "features_valid_2 = validate_2.drop(['product'], axis=1)\n",
    "target_valid_2 = validate_2['product']"
   ]
  },
  {
   "cell_type": "code",
   "execution_count": 20,
   "metadata": {},
   "outputs": [
    {
     "data": {
      "text/plain": [
       "((75000, 3), (25000, 3))"
      ]
     },
     "execution_count": 20,
     "metadata": {},
     "output_type": "execute_result"
    }
   ],
   "source": [
    "features_train_0.shape, features_valid_0.shape"
   ]
  },
  {
   "cell_type": "code",
   "execution_count": 21,
   "metadata": {},
   "outputs": [
    {
     "data": {
      "text/plain": [
       "((75000, 3), (25000, 3))"
      ]
     },
     "execution_count": 21,
     "metadata": {},
     "output_type": "execute_result"
    }
   ],
   "source": [
    "features_train_1.shape, features_valid_1.shape"
   ]
  },
  {
   "cell_type": "code",
   "execution_count": 22,
   "metadata": {},
   "outputs": [
    {
     "data": {
      "text/plain": [
       "((75000, 3), (25000, 3))"
      ]
     },
     "execution_count": 22,
     "metadata": {},
     "output_type": "execute_result"
    }
   ],
   "source": [
    "features_train_2.shape, features_valid_2.shape"
   ]
  },
  {
   "cell_type": "code",
   "execution_count": 23,
   "metadata": {},
   "outputs": [],
   "source": [
    "random = np.random.RandomState(12345)"
   ]
  },
  {
   "cell_type": "markdown",
   "metadata": {},
   "source": [
    "### Вывод по загрузке и проверки данных"
   ]
  },
  {
   "cell_type": "markdown",
   "metadata": {},
   "source": [
    "**Данные были проверены:**\n",
    "\n",
    "**Дубликатов, пропусков, неверных типов данных в столбцах или других аномалий не было выявленно**\n",
    "\n",
    "**Данных были разделены в соотношении 75:25**"
   ]
  },
  {
   "cell_type": "markdown",
   "metadata": {},
   "source": [
    "## Обучение и проверка модели"
   ]
  },
  {
   "cell_type": "markdown",
   "metadata": {},
   "source": [
    "### Модель линейной регрессии"
   ]
  },
  {
   "cell_type": "code",
   "execution_count": 24,
   "metadata": {},
   "outputs": [
    {
     "name": "stdout",
     "output_type": "stream",
     "text": [
      "Средний запас сырья: 92.50000000000001\n",
      "RMSE модели линейной регрессии на валидационной выборке: 37.68019646464799\n"
     ]
    }
   ],
   "source": [
    "model_reg_0 = LinearRegression()\n",
    "model_reg_0.fit(features_train_0, target_train_0)\n",
    "predictions_valid_0 = model_reg_0.predict(features_valid_0)\n",
    "materials_0 = target_0.mean()\n",
    "print(\"Средний запас сырья:\", materials_0)\n",
    "print(\"RMSE модели линейной регрессии на валидационной выборке:\", mean_squared_error(target_valid_0, predictions_valid_0)**0.5)"
   ]
  },
  {
   "cell_type": "code",
   "execution_count": 25,
   "metadata": {},
   "outputs": [
    {
     "name": "stdout",
     "output_type": "stream",
     "text": [
      "Средний запас сырья: 68.82500000000002\n",
      "RMSE модели линейной регрессии на валидационной выборке: 0.8873287354658539\n"
     ]
    }
   ],
   "source": [
    "model_reg_1 = LinearRegression()\n",
    "model_reg_1.fit(features_train_1, target_train_1)\n",
    "predictions_valid_1 = model_reg_1.predict(features_valid_1)\n",
    "materials_1 = target_1.mean()\n",
    "print(\"Средний запас сырья:\", materials_1)\n",
    "print(\"RMSE модели линейной регрессии на валидационной выборке:\", mean_squared_error(target_valid_1, predictions_valid_1)**0.5)"
   ]
  },
  {
   "cell_type": "code",
   "execution_count": 26,
   "metadata": {
    "scrolled": true
   },
   "outputs": [
    {
     "name": "stdout",
     "output_type": "stream",
     "text": [
      "Средний запас сырья: 95.00000000000004\n",
      "RMSE модели линейной регрессии на валидационной выборке: 40.11167877627781\n"
     ]
    }
   ],
   "source": [
    "model_reg_2 = LinearRegression()\n",
    "model_reg_2.fit(features_train_2, target_train_2)\n",
    "predictions_valid_2 = model_reg_2.predict(features_valid_2)\n",
    "materials_2 = target_2.mean()\n",
    "print(\"Средний запас сырья:\", materials_2)\n",
    "print(\"RMSE модели линейной регрессии на валидационной выборке:\", mean_squared_error(target_valid_2, predictions_valid_2)**0.5)"
   ]
  },
  {
   "cell_type": "markdown",
   "metadata": {},
   "source": [
    "**По итогам исследования модели линенной регрессии было выявленно, что самый точный результат регрессии среднеквадратичной ошибки получился у второго региона, но по среднему объему запасов регион на последнем месте, самый же \"богатый\" регион оказался третий, но там и самая высокая вероятность ошибки.**"
   ]
  },
  {
   "cell_type": "markdown",
   "metadata": {},
   "source": [
    "### Модель случайного леса"
   ]
  },
  {
   "cell_type": "markdown",
   "metadata": {},
   "source": [
    "**Хоть в условиях задачи и указанно что необходимо использовать только модель линейной регрессии, для контроля попробуем применить модель случайного леса в регрессии**"
   ]
  },
  {
   "cell_type": "code",
   "execution_count": 27,
   "metadata": {},
   "outputs": [],
   "source": [
    "#model_forest_0 = RandomForestRegressor(random_state=12345, n_estimators=80, max_depth=9)\n",
    "#model_forest_0.fit(features_train_0, target_train_0)\n",
    "#predictions_valid_0 = model_forest_0.predict(features_valid_0)\n",
    "#print(\"Средний запас сырья:\", materials_0)\n",
    "#print(\"RMSE модели линейной регрессии на валидационной выборке:\", mean_squared_error(target_valid_0, predictions_valid_0)**0.5)"
   ]
  },
  {
   "cell_type": "code",
   "execution_count": 28,
   "metadata": {},
   "outputs": [],
   "source": [
    "#model_forest_1 = RandomForestRegressor(random_state=12345, n_estimators=80, max_depth=7)\n",
    "#model_forest_1.fit(features_train_1, target_train_1)\n",
    "#predictions_valid_1 = model_forest_1.predict(features_valid_1)\n",
    "#print(\"Средний запас сырья:\", materials_1)\n",
    "#print(\"RMSE модели линейной регрессии на валидационной выборке:\", mean_squared_error(target_valid_1, predictions_valid_1)**0.5)"
   ]
  },
  {
   "cell_type": "code",
   "execution_count": 29,
   "metadata": {
    "scrolled": true
   },
   "outputs": [],
   "source": [
    "#model_forest_2 = RandomForestRegressor(random_state=12345, n_estimators=80, max_depth=9)\n",
    "#model_forest_2.fit(features_train_2, target_train_2)\n",
    "#predictions_valid_2 = model_forest_2.predict(features_valid_2)\n",
    "#print(\"Средний запас сырья:\", materials_2)\n",
    "#print(\"RMSE модели линейной регрессии на валидационной выборке:\", mean_squared_error(target_valid_2, predictions_valid_2)**0.5)"
   ]
  },
  {
   "cell_type": "markdown",
   "metadata": {},
   "source": [
    "**Это модель оказалась более точной, после подбора гиперпараметров, но как и в линеной регрессии во втором регионе самый минимальный объём ресурсов, но и самая низкая вероятность ошибки**"
   ]
  },
  {
   "cell_type": "markdown",
   "metadata": {},
   "source": [
    "### Вывод по обучению моделей"
   ]
  },
  {
   "cell_type": "markdown",
   "metadata": {},
   "source": [
    "**В исследовании было применено две модели, линенной регрессии и случайного леса в регрессии. В обоих случаях получилась следующая картина:**\n",
    "\n",
    "***Второй регион оказался самым бедным на средней запас ресурсов, но там вероятность ошибки самый низкий и близок к 0***\n",
    "\n",
    "***Первый регион имеет практически такой же шанс ошибки как и третий, но объём сырья потенциального сырья там так же ниже***\n",
    "\n",
    "***Третий регион оказался самым богатым, но и шанс ошибки там самый высокий, хотя шанс ошибки не сильно больше первого региона***"
   ]
  },
  {
   "cell_type": "markdown",
   "metadata": {},
   "source": [
    "## Подготовка к расчёту прибыли"
   ]
  },
  {
   "cell_type": "markdown",
   "metadata": {},
   "source": [
    "**При разведке региона исследуют 500 точек, из которых с помощью машинного обучения выбирают 200 лучших для разработки.**\n",
    "\n",
    "**Бюджет на разработку скважин в регионе — 10 млрд рублей.**\n",
    "\n",
    "**При нынешних ценах один баррель сырья приносит 450 рублей дохода. Доход с каждой единицы продукта составляет 450 тыс. рублей, поскольку объём указан в тысячах баррелей.**\n",
    "\n",
    "**После оценки рисков нужно оставить лишь те регионы, в которых вероятность убытков меньше 2.5%. Среди них выбирают регион с наибольшей средней прибылью.**"
   ]
  },
  {
   "cell_type": "markdown",
   "metadata": {},
   "source": [
    "### Создадим переменный с бюджетом, ценой за один баррель сырья и колличеством скважен, что будут разрабатываться"
   ]
  },
  {
   "cell_type": "code",
   "execution_count": 30,
   "metadata": {},
   "outputs": [],
   "source": [
    "budget = 10000000000\n",
    "barel = 450000\n",
    "well = 200"
   ]
  },
  {
   "cell_type": "markdown",
   "metadata": {},
   "source": [
    "**Теперь расчитаем предпологаем объём скважены, для того что бы бюджет окупался в 0**"
   ]
  },
  {
   "cell_type": "code",
   "execution_count": 31,
   "metadata": {},
   "outputs": [
    {
     "name": "stdout",
     "output_type": "stream",
     "text": [
      "Минимально предполагаемый объём сырья в скважинах: 111.11111111111111 барелей\n"
     ]
    }
   ],
   "source": [
    "print('Минимально предполагаемый объём сырья в скважинах:', budget/barel/well, 'барелей')"
   ]
  },
  {
   "cell_type": "markdown",
   "metadata": {},
   "source": [
    "**Минимальный объём каждой скваженны должен быть не ниже значения в 111.11**"
   ]
  },
  {
   "cell_type": "markdown",
   "metadata": {},
   "source": [
    "### Поиск потенциальный кандидатов"
   ]
  },
  {
   "cell_type": "code",
   "execution_count": 32,
   "metadata": {},
   "outputs": [],
   "source": [
    "data_top_0 = data_0.loc[data_0['product'] > 111.11]"
   ]
  },
  {
   "cell_type": "code",
   "execution_count": 33,
   "metadata": {},
   "outputs": [
    {
     "data": {
      "text/plain": [
       "0.36584"
      ]
     },
     "execution_count": 33,
     "metadata": {},
     "output_type": "execute_result"
    }
   ],
   "source": [
    "len(data_top_0)/len(data_0)"
   ]
  },
  {
   "cell_type": "code",
   "execution_count": 34,
   "metadata": {},
   "outputs": [],
   "source": [
    "data_top_1 = data_1.loc[data_1['product'] > 111.11]"
   ]
  },
  {
   "cell_type": "code",
   "execution_count": 35,
   "metadata": {},
   "outputs": [
    {
     "data": {
      "text/plain": [
       "0.16537"
      ]
     },
     "execution_count": 35,
     "metadata": {},
     "output_type": "execute_result"
    }
   ],
   "source": [
    "len(data_top_1)/len(data_1)"
   ]
  },
  {
   "cell_type": "code",
   "execution_count": 36,
   "metadata": {},
   "outputs": [],
   "source": [
    "data_top_2 = data_2.loc[data_2['product'] > 111.11]"
   ]
  },
  {
   "cell_type": "code",
   "execution_count": 37,
   "metadata": {},
   "outputs": [
    {
     "data": {
      "text/plain": [
       "0.38178"
      ]
     },
     "execution_count": 37,
     "metadata": {},
     "output_type": "execute_result"
    }
   ],
   "source": [
    "len(data_top_2)/len(data_2)"
   ]
  },
  {
   "cell_type": "markdown",
   "metadata": {},
   "source": [
    "**Оказалось, что в первом регионе 36% скважен нам подходят, во втором 16%, а в третьем 38%.**"
   ]
  },
  {
   "cell_type": "code",
   "execution_count": 38,
   "metadata": {},
   "outputs": [
    {
     "data": {
      "text/html": [
       "<div>\n",
       "<style scoped>\n",
       "    .dataframe tbody tr th:only-of-type {\n",
       "        vertical-align: middle;\n",
       "    }\n",
       "\n",
       "    .dataframe tbody tr th {\n",
       "        vertical-align: top;\n",
       "    }\n",
       "\n",
       "    .dataframe thead th {\n",
       "        text-align: right;\n",
       "    }\n",
       "</style>\n",
       "<table border=\"1\" class=\"dataframe\">\n",
       "  <thead>\n",
       "    <tr style=\"text-align: right;\">\n",
       "      <th></th>\n",
       "      <th>f0</th>\n",
       "      <th>f1</th>\n",
       "      <th>f2</th>\n",
       "      <th>product</th>\n",
       "    </tr>\n",
       "  </thead>\n",
       "  <tbody>\n",
       "    <tr>\n",
       "      <th>2</th>\n",
       "      <td>6.263187</td>\n",
       "      <td>-5.948386</td>\n",
       "      <td>5.001160</td>\n",
       "      <td>134.766305</td>\n",
       "    </tr>\n",
       "    <tr>\n",
       "      <th>3</th>\n",
       "      <td>-13.081196</td>\n",
       "      <td>-11.506057</td>\n",
       "      <td>4.999415</td>\n",
       "      <td>137.945408</td>\n",
       "    </tr>\n",
       "    <tr>\n",
       "      <th>4</th>\n",
       "      <td>12.702195</td>\n",
       "      <td>-8.147433</td>\n",
       "      <td>5.004363</td>\n",
       "      <td>134.766305</td>\n",
       "    </tr>\n",
       "    <tr>\n",
       "      <th>8</th>\n",
       "      <td>13.355129</td>\n",
       "      <td>-0.332068</td>\n",
       "      <td>4.998647</td>\n",
       "      <td>134.766305</td>\n",
       "    </tr>\n",
       "    <tr>\n",
       "      <th>9</th>\n",
       "      <td>1.069227</td>\n",
       "      <td>-11.025667</td>\n",
       "      <td>4.997844</td>\n",
       "      <td>137.945408</td>\n",
       "    </tr>\n",
       "  </tbody>\n",
       "</table>\n",
       "</div>"
      ],
      "text/plain": [
       "          f0         f1        f2     product\n",
       "2   6.263187  -5.948386  5.001160  134.766305\n",
       "3 -13.081196 -11.506057  4.999415  137.945408\n",
       "4  12.702195  -8.147433  5.004363  134.766305\n",
       "8  13.355129  -0.332068  4.998647  134.766305\n",
       "9   1.069227 -11.025667  4.997844  137.945408"
      ]
     },
     "execution_count": 38,
     "metadata": {},
     "output_type": "execute_result"
    }
   ],
   "source": [
    "data_top_1.head()"
   ]
  },
  {
   "cell_type": "code",
   "execution_count": 39,
   "metadata": {},
   "outputs": [
    {
     "data": {
      "text/plain": [
       "array([134.76630516, 137.94540774])"
      ]
     },
     "execution_count": 39,
     "metadata": {},
     "output_type": "execute_result"
    }
   ],
   "source": [
    "data_top_1['product'].unique()"
   ]
  },
  {
   "cell_type": "markdown",
   "metadata": {},
   "source": [
    "**Так же мне показалось крайне странным показания столбца product во втором регионе, там все скважены имеют всего два варианта объёма: 134.76630516 и 137.94540774, я бы обратил на это внимание**"
   ]
  },
  {
   "cell_type": "code",
   "execution_count": 46,
   "metadata": {},
   "outputs": [
    {
     "data": {
      "text/plain": [
       "12"
      ]
     },
     "execution_count": 46,
     "metadata": {},
     "output_type": "execute_result"
    }
   ],
   "source": [
    "#ячейка ревьюера\n",
    "data_1['product'].nunique()"
   ]
  },
  {
   "cell_type": "markdown",
   "metadata": {},
   "source": [
    "### Функция расчёта прибыли"
   ]
  },
  {
   "cell_type": "code",
   "execution_count": 40,
   "metadata": {},
   "outputs": [],
   "source": [
    "def find_predictions(model, features_valid, index):\n",
    "    predictions = model.predict(features_valid)\n",
    "    \n",
    "    np_array = np.array(predictions)\n",
    "    new_predictions = pd.Series(np_array, index = index)\n",
    "    \n",
    "    return new_predictions"
   ]
  },
  {
   "cell_type": "markdown",
   "metadata": {},
   "source": [
    "**Поскольку предсказания выводятся в массиве. Поставим аналогичные с target индексы.**"
   ]
  },
  {
   "cell_type": "code",
   "execution_count": 41,
   "metadata": {},
   "outputs": [],
   "source": [
    "predictions_0 = find_predictions(model_reg_0, features_valid_0, target_valid_0.index)\n",
    "predictions_1 = find_predictions(model_reg_1, features_valid_1, target_valid_1.index)\n",
    "predictions_2 = find_predictions(model_reg_2, features_valid_2, target_valid_2.index)"
   ]
  },
  {
   "cell_type": "code",
   "execution_count": 42,
   "metadata": {},
   "outputs": [],
   "source": [
    "def profit (target, probabilities, count):\n",
    "    probs_sorted = probabilities.sort_values(ascending=False)\n",
    "    selected = target[probs_sorted.index][:count]\n",
    "    return (barel * selected.sum()) - budget"
   ]
  },
  {
   "cell_type": "markdown",
   "metadata": {},
   "source": [
    "### Вывод по поиску потенциальной прибыли"
   ]
  },
  {
   "cell_type": "markdown",
   "metadata": {},
   "source": [
    "**Мы посчитали примерное колличество скважен что нам подходят по объёму в каждом регионе:**\n",
    "\n",
    "***Первый регион: 36%***\n",
    "\n",
    "***Второй регион: 16%***\n",
    "\n",
    "***Третий регион: 38%***\n",
    "\n",
    "**Так же была написана функция для расчёта прибыли**"
   ]
  },
  {
   "cell_type": "markdown",
   "metadata": {},
   "source": [
    "## Расчёт прибыли и рисков "
   ]
  },
  {
   "cell_type": "markdown",
   "metadata": {},
   "source": [
    "### Расчёт прибыли по регионам"
   ]
  },
  {
   "cell_type": "markdown",
   "metadata": {},
   "source": [
    "**Выполните процедуру Bootstrap с 1000 повторений, по каждому из регионов и найдём среднию возможную вырочку**\n",
    "\n",
    "**Найдите среднюю прибыль, 95%-й доверительный интервал и риск убытков.**"
   ]
  },
  {
   "cell_type": "code",
   "execution_count": 43,
   "metadata": {},
   "outputs": [
    {
     "name": "stdout",
     "output_type": "stream",
     "text": [
      "Средняя выручка первого региона с 200 лучших точек: 468757230.73649806\n",
      "95%-ый доверительный интервал: (451722609.9257023, 485791851.54729384)\n",
      "Риск убытков 4.6 %\n"
     ]
    }
   ],
   "source": [
    "values_0 = []\n",
    "for i in range(1000):\n",
    "    target_subsample_0 = target_valid_0.sample(n=500, replace=True, random_state=state)\n",
    "    probs_subsample_0 = predictions_0[target_subsample_0.index] \n",
    "    values_0.append(profit(target_subsample_0, probs_subsample_0, 200))\n",
    "values_0 = pd.Series(values_0)\n",
    "print('Средняя выручка первого региона с 200 лучших точек:', values_0.mean())\n",
    "confidence_interval_0 = st.t.interval(\n",
    "    0.95, len(values_0)-1, values_0.mean(), values_0.sem())\n",
    "print(\"95%-ый доверительный интервал:\", confidence_interval_0)\n",
    "print('Риск убытков', sum([1 for i in values_0 if i < 0]) / len(values_0)*100,'%')"
   ]
  },
  {
   "cell_type": "code",
   "execution_count": 44,
   "metadata": {},
   "outputs": [
    {
     "name": "stdout",
     "output_type": "stream",
     "text": [
      "Средняя выручка второго региона с 200 лучших точек: 495302032.880433\n",
      "95%-ый доверительный интервал: (482350862.2308653, 508253203.53000075)\n",
      "Риск убытков 0.8999999999999999 %\n"
     ]
    }
   ],
   "source": [
    "values_1 = []\n",
    "for i in range(1000):\n",
    "    target_subsample_1 = target_valid_1.sample(n=500, replace=True, random_state=state)\n",
    "    probs_subsample_1 = predictions_1[target_subsample_1.index] \n",
    "    values_1.append(profit(target_subsample_1, probs_subsample_1, 200))\n",
    "values_1 = pd.Series(values_1)\n",
    "print('Средняя выручка второго региона с 200 лучших точек:', values_1.mean())\n",
    "confidence_interval_1 = st.t.interval(\n",
    "    0.95, len(values_1)-1, values_1.mean(), values_1.sem())\n",
    "print(\"95%-ый доверительный интервал:\", confidence_interval_1)\n",
    "print('Риск убытков', sum([1 for i in values_1 if i < 0]) / len(values_1)*100,'%')"
   ]
  },
  {
   "cell_type": "code",
   "execution_count": 45,
   "metadata": {},
   "outputs": [
    {
     "name": "stdout",
     "output_type": "stream",
     "text": [
      "Средняя выручка третьего региона с 200 лучших точек: 365437773.923951\n",
      "95%-ый доверительный интервал: (348257993.6535976, 382617554.19430447)\n",
      "Риск убытков 10.0 %\n"
     ]
    }
   ],
   "source": [
    "values_2 = []\n",
    "for i in range(1000):\n",
    "    target_subsample_2 = target_valid_2.sample(n=500, replace=True, random_state=state)\n",
    "    probs_subsample_2 = predictions_2[target_subsample_2.index] \n",
    "    values_2.append(profit(target_subsample_2, probs_subsample_2, 200))\n",
    "values_2 = pd.Series(values_2)\n",
    "print('Средняя выручка третьего региона с 200 лучших точек:', values_2.mean())\n",
    "confidence_interval_2 = st.t.interval(\n",
    "    0.95, len(values_2)-1, values_2.mean(), values_2.sem())\n",
    "print(\"95%-ый доверительный интервал:\", confidence_interval_2)\n",
    "print('Риск убытков', sum([1 for i in values_2 if i < 0]) / len(values_2)*100,'%')"
   ]
  },
  {
   "cell_type": "markdown",
   "metadata": {},
   "source": [
    "### Вывод по расчёту прибыли"
   ]
  },
  {
   "cell_type": "markdown",
   "metadata": {},
   "source": [
    "**По итогам исследований получилась следующая картина:**\n",
    "\n",
    "***Средняя выручка первого региона с двухсот лучших точек: 465457860.2982787\n",
    "95%-ый доверительный интервал: (448330175.8666724, 482585544.729885)\n",
    "Риск убытков 4.0%***\n",
    "\n",
    "***Средняя выручка второго региона с двухсот лучших точек: 491278139.074479\n",
    "95%-ый доверительный интервал: (477882794.47297674, 504673483.6759812)\n",
    "Риск убытков 0.8999999999999999%***\n",
    "\n",
    "***Средняя выручка третьего региона с двухсот лучших точек: 378924122.30922544\n",
    "95%-ый доверительный интервал: (361876187.65304816, 395972056.9654027)\n",
    "Риск убытков 8.7%***\n",
    "\n",
    "**Хоть второй регион и укладывается в задачу, что бы риск был ниже 2.5% и по условиям задачи подходит, но я хотел бы обратить особое внимае тому, что данные в этом регионе выглядят подозритель и их стоит перепроверить**"
   ]
  },
  {
   "cell_type": "markdown",
   "metadata": {},
   "source": [
    "### Общий вывод"
   ]
  },
  {
   "cell_type": "markdown",
   "metadata": {},
   "source": [
    "**Были проведенные исследования данных из трёх потенциальных регион для добычи ископаемых и были выполненны следующие действия:**\n",
    "\n",
    "**Данные были загруженны и проверены на пропуски, дубликаты**\n",
    "\n",
    "**В данных были удалены стобцы с id, так как они были не нужны для исследований**\n",
    "\n",
    "**Данные были разделены на обучающую (train(75%)) и валидационную (validate(25%)) выборки**\n",
    "\n",
    "**Были пременены методы обучения модели линенной регрессии и случайного леса регрессии (как оказалась по условию задачи, нужна была только линеная регрессия)**\n",
    "\n",
    "**Модели получили следующие результаты:**\n",
    "\n",
    "***Первый регион имеет средний запас сырья: 92.50000000000001, а RMSE модели линейной регрессии на валидационной выборке: 37.68019646464799***\n",
    "\n",
    "***Второй регион имеет средний запас сырья: 68.82500000000002, а RMSE модели линейной регрессии на валидационной выборке: 0.8873287354658539***\n",
    "\n",
    "***Третий регион имеет средний запас сырья: 95.00000000000004, а RMSE модели линейной регрессии на валидационной выборке: 40.11167877627781***\n",
    "\n",
    "**Были проведены подготовительные работы для расчёта самого перспективного региона, и было выявленно, что минимальный объём каждой из 200 скважен должен быть не ниже значения в 111.11 барелей**\n",
    "\n",
    "**Оказалось, что в первом регионе 36%, во втором 16%, а в третьем 38% скважен подходят под заданные параметры**\n",
    "\n",
    "**Так же мне показалось крайне странным показания столбца product во втором регионе, там все скважены имеют всего два варианта объёма: 134.76630516 и 137.94540774, я бы обратил на это внимание!**\n",
    "\n",
    "**Выполнена процедура Bootstrap с 1000 повторений, по каждому из регионов и найдняя возможная выручка по двухста лучшим скважинам, а так же риск убытков:**\n",
    "\n",
    "***Средняя выручка первого региона с двухсот лучших точек: 465457860.2982787, 95%-ый доверительный интервал: (448330175.8666724, 482585544.729885), Риск убытков 4.0%***\n",
    "\n",
    "***Средняя выручка второго региона с двухсот лучших точек: 491278139.074479, 95%-ый доверительный интервал: (477882794.47297674, 504673483.6759812), Риск убытков 0.8999999999999999%***\n",
    "\n",
    "***Средняя выручка третьего региона с двухсот лучших точек: 378924122.30922544, 95%-ый доверительный интервал: (361876187.65304816, 395972056.9654027), Риск убытков 8.7%***\n",
    "\n",
    "**По условиям поставленной задачи лучше всего подходит второй регион (мои опасения по поводу этого региона указаны выше в отчёте)**"
   ]
  }
 ],
 "metadata": {
  "ExecuteTimeLog": [
   {
    "duration": 1400,
    "start_time": "2023-03-14T13:22:23.717Z"
   },
   {
    "duration": 5,
    "start_time": "2023-03-14T13:23:46.105Z"
   },
   {
    "duration": 593,
    "start_time": "2023-03-14T13:23:46.541Z"
   },
   {
    "duration": 419,
    "start_time": "2023-03-14T13:26:31.333Z"
   },
   {
    "duration": 11,
    "start_time": "2023-03-14T13:26:52.861Z"
   },
   {
    "duration": 9,
    "start_time": "2023-03-14T13:27:00.947Z"
   },
   {
    "duration": 8,
    "start_time": "2023-03-14T13:27:12.070Z"
   },
   {
    "duration": 18,
    "start_time": "2023-03-14T13:29:46.575Z"
   },
   {
    "duration": 13,
    "start_time": "2023-03-14T13:30:11.258Z"
   },
   {
    "duration": 12,
    "start_time": "2023-03-14T13:30:12.774Z"
   },
   {
    "duration": 13,
    "start_time": "2023-03-14T13:30:13.149Z"
   },
   {
    "duration": 8,
    "start_time": "2023-03-14T13:30:52.013Z"
   },
   {
    "duration": 9,
    "start_time": "2023-03-14T13:30:52.775Z"
   },
   {
    "duration": 8,
    "start_time": "2023-03-14T13:30:53.215Z"
   },
   {
    "duration": 38,
    "start_time": "2023-03-14T13:31:25.309Z"
   },
   {
    "duration": 34,
    "start_time": "2023-03-14T13:31:25.674Z"
   },
   {
    "duration": 43,
    "start_time": "2023-03-14T13:31:26.030Z"
   },
   {
    "duration": 1328,
    "start_time": "2023-03-14T13:38:18.428Z"
   },
   {
    "duration": 598,
    "start_time": "2023-03-14T13:38:19.757Z"
   },
   {
    "duration": 104,
    "start_time": "2023-03-14T13:38:20.356Z"
   },
   {
    "duration": 0,
    "start_time": "2023-03-14T13:38:20.461Z"
   },
   {
    "duration": 0,
    "start_time": "2023-03-14T13:38:20.462Z"
   },
   {
    "duration": 0,
    "start_time": "2023-03-14T13:38:20.463Z"
   },
   {
    "duration": 0,
    "start_time": "2023-03-14T13:38:20.464Z"
   },
   {
    "duration": 0,
    "start_time": "2023-03-14T13:38:20.464Z"
   },
   {
    "duration": 0,
    "start_time": "2023-03-14T13:38:20.465Z"
   },
   {
    "duration": 0,
    "start_time": "2023-03-14T13:38:20.466Z"
   },
   {
    "duration": 0,
    "start_time": "2023-03-14T13:38:20.467Z"
   },
   {
    "duration": 0,
    "start_time": "2023-03-14T13:38:20.468Z"
   },
   {
    "duration": 0,
    "start_time": "2023-03-14T13:38:20.479Z"
   },
   {
    "duration": 0,
    "start_time": "2023-03-14T13:38:20.480Z"
   },
   {
    "duration": 0,
    "start_time": "2023-03-14T13:38:20.480Z"
   },
   {
    "duration": 1240,
    "start_time": "2023-03-14T13:38:35.279Z"
   },
   {
    "duration": 379,
    "start_time": "2023-03-14T13:38:36.521Z"
   },
   {
    "duration": 10,
    "start_time": "2023-03-14T13:38:36.902Z"
   },
   {
    "duration": 31,
    "start_time": "2023-03-14T13:38:36.913Z"
   },
   {
    "duration": 9,
    "start_time": "2023-03-14T13:38:36.946Z"
   },
   {
    "duration": 21,
    "start_time": "2023-03-14T13:38:36.956Z"
   },
   {
    "duration": 11,
    "start_time": "2023-03-14T13:38:36.978Z"
   },
   {
    "duration": 11,
    "start_time": "2023-03-14T13:38:36.990Z"
   },
   {
    "duration": 8,
    "start_time": "2023-03-14T13:38:37.002Z"
   },
   {
    "duration": 11,
    "start_time": "2023-03-14T13:38:37.012Z"
   },
   {
    "duration": 7,
    "start_time": "2023-03-14T13:38:37.024Z"
   },
   {
    "duration": 68,
    "start_time": "2023-03-14T13:38:37.032Z"
   },
   {
    "duration": 35,
    "start_time": "2023-03-14T13:38:37.102Z"
   },
   {
    "duration": 48,
    "start_time": "2023-03-14T13:38:37.140Z"
   },
   {
    "duration": 43,
    "start_time": "2023-03-14T13:40:37.136Z"
   },
   {
    "duration": 1403,
    "start_time": "2023-03-14T13:40:55.693Z"
   },
   {
    "duration": 563,
    "start_time": "2023-03-14T13:40:57.097Z"
   },
   {
    "duration": 11,
    "start_time": "2023-03-14T13:40:57.662Z"
   },
   {
    "duration": 10,
    "start_time": "2023-03-14T13:40:57.674Z"
   },
   {
    "duration": 9,
    "start_time": "2023-03-14T13:40:57.685Z"
   },
   {
    "duration": 17,
    "start_time": "2023-03-14T13:40:57.695Z"
   },
   {
    "duration": 17,
    "start_time": "2023-03-14T13:40:57.713Z"
   },
   {
    "duration": 11,
    "start_time": "2023-03-14T13:40:57.731Z"
   },
   {
    "duration": 14,
    "start_time": "2023-03-14T13:40:57.743Z"
   },
   {
    "duration": 21,
    "start_time": "2023-03-14T13:40:57.759Z"
   },
   {
    "duration": 8,
    "start_time": "2023-03-14T13:40:57.782Z"
   },
   {
    "duration": 46,
    "start_time": "2023-03-14T13:40:57.792Z"
   },
   {
    "duration": 41,
    "start_time": "2023-03-14T13:40:57.839Z"
   },
   {
    "duration": 36,
    "start_time": "2023-03-14T13:40:57.881Z"
   },
   {
    "duration": 8,
    "start_time": "2023-03-14T13:40:57.919Z"
   },
   {
    "duration": 10,
    "start_time": "2023-03-14T13:41:33.915Z"
   },
   {
    "duration": 8,
    "start_time": "2023-03-14T13:41:47.108Z"
   },
   {
    "duration": 7,
    "start_time": "2023-03-14T13:41:57.810Z"
   },
   {
    "duration": 103,
    "start_time": "2023-03-14T13:47:06.939Z"
   },
   {
    "duration": 19,
    "start_time": "2023-03-14T13:47:16.605Z"
   },
   {
    "duration": 25,
    "start_time": "2023-03-14T13:47:27.637Z"
   },
   {
    "duration": 13,
    "start_time": "2023-03-14T13:48:34.215Z"
   },
   {
    "duration": 1252,
    "start_time": "2023-03-14T13:51:11.706Z"
   },
   {
    "duration": 425,
    "start_time": "2023-03-14T13:51:12.960Z"
   },
   {
    "duration": 11,
    "start_time": "2023-03-14T13:51:13.387Z"
   },
   {
    "duration": 17,
    "start_time": "2023-03-14T13:51:13.400Z"
   },
   {
    "duration": 32,
    "start_time": "2023-03-14T13:51:13.419Z"
   },
   {
    "duration": 27,
    "start_time": "2023-03-14T13:51:13.453Z"
   },
   {
    "duration": 12,
    "start_time": "2023-03-14T13:51:13.482Z"
   },
   {
    "duration": 11,
    "start_time": "2023-03-14T13:51:13.495Z"
   },
   {
    "duration": 8,
    "start_time": "2023-03-14T13:51:13.507Z"
   },
   {
    "duration": 16,
    "start_time": "2023-03-14T13:51:13.516Z"
   },
   {
    "duration": 8,
    "start_time": "2023-03-14T13:51:13.533Z"
   },
   {
    "duration": 59,
    "start_time": "2023-03-14T13:51:13.542Z"
   },
   {
    "duration": 36,
    "start_time": "2023-03-14T13:51:13.602Z"
   },
   {
    "duration": 51,
    "start_time": "2023-03-14T13:51:13.641Z"
   },
   {
    "duration": 11,
    "start_time": "2023-03-14T13:51:13.693Z"
   },
   {
    "duration": 31,
    "start_time": "2023-03-14T13:51:13.705Z"
   },
   {
    "duration": 7,
    "start_time": "2023-03-14T13:55:05.106Z"
   },
   {
    "duration": 3,
    "start_time": "2023-03-14T13:55:21.845Z"
   },
   {
    "duration": 6,
    "start_time": "2023-03-14T13:56:16.273Z"
   },
   {
    "duration": 4,
    "start_time": "2023-03-14T13:56:16.777Z"
   },
   {
    "duration": 32,
    "start_time": "2023-03-14T13:57:07.272Z"
   },
   {
    "duration": 1277,
    "start_time": "2023-03-14T13:58:26.913Z"
   },
   {
    "duration": 391,
    "start_time": "2023-03-14T13:58:28.191Z"
   },
   {
    "duration": 11,
    "start_time": "2023-03-14T13:58:28.584Z"
   },
   {
    "duration": 7,
    "start_time": "2023-03-14T13:58:28.596Z"
   },
   {
    "duration": 12,
    "start_time": "2023-03-14T13:58:28.605Z"
   },
   {
    "duration": 22,
    "start_time": "2023-03-14T13:58:28.619Z"
   },
   {
    "duration": 11,
    "start_time": "2023-03-14T13:58:28.643Z"
   },
   {
    "duration": 33,
    "start_time": "2023-03-14T13:58:28.655Z"
   },
   {
    "duration": 8,
    "start_time": "2023-03-14T13:58:28.689Z"
   },
   {
    "duration": 16,
    "start_time": "2023-03-14T13:58:28.698Z"
   },
   {
    "duration": 9,
    "start_time": "2023-03-14T13:58:28.715Z"
   },
   {
    "duration": 40,
    "start_time": "2023-03-14T13:58:28.725Z"
   },
   {
    "duration": 51,
    "start_time": "2023-03-14T13:58:28.766Z"
   },
   {
    "duration": 60,
    "start_time": "2023-03-14T13:58:28.819Z"
   },
   {
    "duration": 10,
    "start_time": "2023-03-14T13:58:28.881Z"
   },
   {
    "duration": 35,
    "start_time": "2023-03-14T13:58:28.892Z"
   },
   {
    "duration": 10,
    "start_time": "2023-03-14T13:58:28.929Z"
   },
   {
    "duration": 13,
    "start_time": "2023-03-14T13:58:28.940Z"
   },
   {
    "duration": 5,
    "start_time": "2023-03-14T13:58:28.954Z"
   },
   {
    "duration": 8,
    "start_time": "2023-03-14T13:58:28.960Z"
   },
   {
    "duration": 1313,
    "start_time": "2023-03-14T14:13:12.878Z"
   },
   {
    "duration": 398,
    "start_time": "2023-03-14T14:13:14.192Z"
   },
   {
    "duration": 12,
    "start_time": "2023-03-14T14:13:14.592Z"
   },
   {
    "duration": 8,
    "start_time": "2023-03-14T14:13:14.605Z"
   },
   {
    "duration": 9,
    "start_time": "2023-03-14T14:13:14.615Z"
   },
   {
    "duration": 15,
    "start_time": "2023-03-14T14:13:14.625Z"
   },
   {
    "duration": 11,
    "start_time": "2023-03-14T14:13:14.641Z"
   },
   {
    "duration": 40,
    "start_time": "2023-03-14T14:13:14.653Z"
   },
   {
    "duration": 19,
    "start_time": "2023-03-14T14:13:14.695Z"
   },
   {
    "duration": 13,
    "start_time": "2023-03-14T14:13:14.716Z"
   },
   {
    "duration": 8,
    "start_time": "2023-03-14T14:13:14.730Z"
   },
   {
    "duration": 45,
    "start_time": "2023-03-14T14:13:14.739Z"
   },
   {
    "duration": 40,
    "start_time": "2023-03-14T14:13:14.786Z"
   },
   {
    "duration": 51,
    "start_time": "2023-03-14T14:13:14.829Z"
   },
   {
    "duration": 13,
    "start_time": "2023-03-14T14:13:14.881Z"
   },
   {
    "duration": 38,
    "start_time": "2023-03-14T14:13:14.896Z"
   },
   {
    "duration": 8,
    "start_time": "2023-03-14T14:13:14.935Z"
   },
   {
    "duration": 20,
    "start_time": "2023-03-14T14:13:14.944Z"
   },
   {
    "duration": 7,
    "start_time": "2023-03-14T14:13:14.966Z"
   },
   {
    "duration": 23,
    "start_time": "2023-03-14T14:13:14.979Z"
   },
   {
    "duration": 21,
    "start_time": "2023-03-14T14:13:15.003Z"
   },
   {
    "duration": 1412,
    "start_time": "2023-03-14T16:29:05.556Z"
   },
   {
    "duration": 391,
    "start_time": "2023-03-14T16:29:06.969Z"
   },
   {
    "duration": 11,
    "start_time": "2023-03-14T16:29:07.362Z"
   },
   {
    "duration": 7,
    "start_time": "2023-03-14T16:29:07.380Z"
   },
   {
    "duration": 10,
    "start_time": "2023-03-14T16:29:07.389Z"
   },
   {
    "duration": 33,
    "start_time": "2023-03-14T16:29:07.400Z"
   },
   {
    "duration": 11,
    "start_time": "2023-03-14T16:29:07.434Z"
   },
   {
    "duration": 19,
    "start_time": "2023-03-14T16:29:07.447Z"
   },
   {
    "duration": 14,
    "start_time": "2023-03-14T16:29:07.467Z"
   },
   {
    "duration": 19,
    "start_time": "2023-03-14T16:29:07.483Z"
   },
   {
    "duration": 13,
    "start_time": "2023-03-14T16:29:07.504Z"
   },
   {
    "duration": 47,
    "start_time": "2023-03-14T16:29:07.518Z"
   },
   {
    "duration": 34,
    "start_time": "2023-03-14T16:29:07.566Z"
   },
   {
    "duration": 37,
    "start_time": "2023-03-14T16:29:07.601Z"
   },
   {
    "duration": 9,
    "start_time": "2023-03-14T16:29:07.639Z"
   },
   {
    "duration": 43,
    "start_time": "2023-03-14T16:29:07.649Z"
   },
   {
    "duration": 8,
    "start_time": "2023-03-14T16:29:07.693Z"
   },
   {
    "duration": 11,
    "start_time": "2023-03-14T16:29:07.703Z"
   },
   {
    "duration": 5,
    "start_time": "2023-03-14T16:29:07.716Z"
   },
   {
    "duration": 8,
    "start_time": "2023-03-14T16:29:07.723Z"
   },
   {
    "duration": 7,
    "start_time": "2023-03-14T16:29:07.733Z"
   },
   {
    "duration": 46,
    "start_time": "2023-03-14T16:29:07.742Z"
   },
   {
    "duration": 238,
    "start_time": "2023-03-14T16:30:21.927Z"
   },
   {
    "duration": 20,
    "start_time": "2023-03-14T16:31:06.494Z"
   },
   {
    "duration": 22,
    "start_time": "2023-03-14T16:34:03.701Z"
   },
   {
    "duration": 1738,
    "start_time": "2023-03-14T16:34:36.270Z"
   },
   {
    "duration": 76,
    "start_time": "2023-03-14T16:35:13.605Z"
   },
   {
    "duration": 21,
    "start_time": "2023-03-14T16:35:17.892Z"
   },
   {
    "duration": 57,
    "start_time": "2023-03-14T16:37:52.523Z"
   },
   {
    "duration": 919,
    "start_time": "2023-03-14T16:38:11.367Z"
   },
   {
    "duration": 15,
    "start_time": "2023-03-14T16:40:03.105Z"
   },
   {
    "duration": 14,
    "start_time": "2023-03-14T16:41:15.984Z"
   },
   {
    "duration": 13,
    "start_time": "2023-03-14T16:41:46.310Z"
   },
   {
    "duration": 14,
    "start_time": "2023-03-14T16:42:56.101Z"
   },
   {
    "duration": 13,
    "start_time": "2023-03-14T16:42:56.709Z"
   },
   {
    "duration": 13,
    "start_time": "2023-03-14T16:42:57.175Z"
   },
   {
    "duration": 12,
    "start_time": "2023-03-14T16:46:59.331Z"
   },
   {
    "duration": 13,
    "start_time": "2023-03-14T16:46:59.934Z"
   },
   {
    "duration": 13,
    "start_time": "2023-03-14T16:47:00.299Z"
   },
   {
    "duration": 14,
    "start_time": "2023-03-14T16:49:44.228Z"
   },
   {
    "duration": 1376,
    "start_time": "2023-03-14T16:51:02.914Z"
   },
   {
    "duration": 458,
    "start_time": "2023-03-14T16:51:04.292Z"
   },
   {
    "duration": 12,
    "start_time": "2023-03-14T16:51:04.752Z"
   },
   {
    "duration": 41,
    "start_time": "2023-03-14T16:51:04.766Z"
   },
   {
    "duration": 22,
    "start_time": "2023-03-14T16:51:04.809Z"
   },
   {
    "duration": 37,
    "start_time": "2023-03-14T16:51:04.832Z"
   },
   {
    "duration": 13,
    "start_time": "2023-03-14T16:51:04.871Z"
   },
   {
    "duration": 12,
    "start_time": "2023-03-14T16:51:04.885Z"
   },
   {
    "duration": 27,
    "start_time": "2023-03-14T16:51:04.899Z"
   },
   {
    "duration": 12,
    "start_time": "2023-03-14T16:51:04.927Z"
   },
   {
    "duration": 8,
    "start_time": "2023-03-14T16:51:04.941Z"
   },
   {
    "duration": 58,
    "start_time": "2023-03-14T16:51:04.951Z"
   },
   {
    "duration": 40,
    "start_time": "2023-03-14T16:51:05.011Z"
   },
   {
    "duration": 61,
    "start_time": "2023-03-14T16:51:05.055Z"
   },
   {
    "duration": 10,
    "start_time": "2023-03-14T16:51:05.118Z"
   },
   {
    "duration": 51,
    "start_time": "2023-03-14T16:51:05.129Z"
   },
   {
    "duration": 8,
    "start_time": "2023-03-14T16:51:05.181Z"
   },
   {
    "duration": 17,
    "start_time": "2023-03-14T16:51:05.191Z"
   },
   {
    "duration": 10,
    "start_time": "2023-03-14T16:51:05.210Z"
   },
   {
    "duration": 26,
    "start_time": "2023-03-14T16:51:05.221Z"
   },
   {
    "duration": 10,
    "start_time": "2023-03-14T16:51:05.248Z"
   },
   {
    "duration": 28,
    "start_time": "2023-03-14T16:51:05.260Z"
   },
   {
    "duration": 202,
    "start_time": "2023-03-14T16:51:05.289Z"
   },
   {
    "duration": 188,
    "start_time": "2023-03-14T16:51:05.492Z"
   },
   {
    "duration": 227,
    "start_time": "2023-03-14T16:51:05.686Z"
   },
   {
    "duration": 0,
    "start_time": "2023-03-14T16:51:05.914Z"
   },
   {
    "duration": 17,
    "start_time": "2023-03-14T16:51:56.413Z"
   },
   {
    "duration": 13,
    "start_time": "2023-03-14T16:53:25.191Z"
   },
   {
    "duration": 1280,
    "start_time": "2023-03-14T16:55:08.868Z"
   },
   {
    "duration": 440,
    "start_time": "2023-03-14T16:55:10.149Z"
   },
   {
    "duration": 12,
    "start_time": "2023-03-14T16:55:10.591Z"
   },
   {
    "duration": 9,
    "start_time": "2023-03-14T16:55:10.605Z"
   },
   {
    "duration": 9,
    "start_time": "2023-03-14T16:55:10.615Z"
   },
   {
    "duration": 19,
    "start_time": "2023-03-14T16:55:10.626Z"
   },
   {
    "duration": 24,
    "start_time": "2023-03-14T16:55:10.646Z"
   },
   {
    "duration": 13,
    "start_time": "2023-03-14T16:55:10.680Z"
   },
   {
    "duration": 23,
    "start_time": "2023-03-14T16:55:10.694Z"
   },
   {
    "duration": 8,
    "start_time": "2023-03-14T16:55:10.719Z"
   },
   {
    "duration": 10,
    "start_time": "2023-03-14T16:55:10.728Z"
   },
   {
    "duration": 55,
    "start_time": "2023-03-14T16:55:10.739Z"
   },
   {
    "duration": 40,
    "start_time": "2023-03-14T16:55:10.795Z"
   },
   {
    "duration": 47,
    "start_time": "2023-03-14T16:55:10.836Z"
   },
   {
    "duration": 8,
    "start_time": "2023-03-14T16:55:10.885Z"
   },
   {
    "duration": 55,
    "start_time": "2023-03-14T16:55:10.895Z"
   },
   {
    "duration": 8,
    "start_time": "2023-03-14T16:55:10.952Z"
   },
   {
    "duration": 27,
    "start_time": "2023-03-14T16:55:10.961Z"
   },
   {
    "duration": 23,
    "start_time": "2023-03-14T16:55:10.990Z"
   },
   {
    "duration": 8,
    "start_time": "2023-03-14T16:55:11.014Z"
   },
   {
    "duration": 5,
    "start_time": "2023-03-14T16:55:11.023Z"
   },
   {
    "duration": 16,
    "start_time": "2023-03-14T16:55:11.029Z"
   },
   {
    "duration": 44,
    "start_time": "2023-03-14T16:55:11.047Z"
   },
   {
    "duration": 109,
    "start_time": "2023-03-14T16:55:11.180Z"
   },
   {
    "duration": 110177,
    "start_time": "2023-03-14T16:56:51.998Z"
   },
   {
    "duration": 47,
    "start_time": "2023-03-14T16:59:10.053Z"
   },
   {
    "duration": 134352,
    "start_time": "2023-03-14T16:59:32.543Z"
   },
   {
    "duration": 7275,
    "start_time": "2023-03-14T17:02:49.356Z"
   },
   {
    "duration": 1315,
    "start_time": "2023-03-14T17:03:00.894Z"
   },
   {
    "duration": 746,
    "start_time": "2023-03-14T17:03:15.575Z"
   },
   {
    "duration": 843,
    "start_time": "2023-03-14T17:03:19.262Z"
   },
   {
    "duration": 551,
    "start_time": "2023-03-14T17:03:23.795Z"
   },
   {
    "duration": 1492,
    "start_time": "2023-03-14T17:03:28.724Z"
   },
   {
    "duration": 1296,
    "start_time": "2023-03-14T17:03:34.430Z"
   },
   {
    "duration": 1105,
    "start_time": "2023-03-14T17:04:10.830Z"
   },
   {
    "duration": 134126,
    "start_time": "2023-03-14T17:06:46.859Z"
   },
   {
    "duration": 7704,
    "start_time": "2023-03-14T17:10:13.038Z"
   },
   {
    "duration": 6557,
    "start_time": "2023-03-14T17:10:36.813Z"
   },
   {
    "duration": 5511,
    "start_time": "2023-03-14T17:10:47.070Z"
   },
   {
    "duration": 5462,
    "start_time": "2023-03-14T17:10:57.647Z"
   },
   {
    "duration": 4219,
    "start_time": "2023-03-14T17:11:08.147Z"
   },
   {
    "duration": 3586,
    "start_time": "2023-03-14T17:11:15.796Z"
   },
   {
    "duration": 2784,
    "start_time": "2023-03-14T17:11:22.251Z"
   },
   {
    "duration": 1965,
    "start_time": "2023-03-14T17:11:27.293Z"
   },
   {
    "duration": 1162,
    "start_time": "2023-03-14T17:11:31.469Z"
   },
   {
    "duration": 33,
    "start_time": "2023-03-14T17:11:36.606Z"
   },
   {
    "duration": 1081,
    "start_time": "2023-03-14T17:11:40.203Z"
   },
   {
    "duration": 848,
    "start_time": "2023-03-14T17:11:44.067Z"
   },
   {
    "duration": 644,
    "start_time": "2023-03-14T17:11:49.051Z"
   },
   {
    "duration": 259,
    "start_time": "2023-03-14T17:11:54.085Z"
   },
   {
    "duration": 3326,
    "start_time": "2023-03-14T17:12:17.693Z"
   },
   {
    "duration": 4096,
    "start_time": "2023-03-14T17:12:23.010Z"
   },
   {
    "duration": 4430,
    "start_time": "2023-03-14T17:12:32.130Z"
   },
   {
    "duration": 5893,
    "start_time": "2023-03-14T17:12:41.945Z"
   },
   {
    "duration": 5419,
    "start_time": "2023-03-14T17:12:57.593Z"
   },
   {
    "duration": 4537,
    "start_time": "2023-03-14T17:13:06.416Z"
   },
   {
    "duration": 4043,
    "start_time": "2023-03-14T17:13:18.344Z"
   },
   {
    "duration": 3824,
    "start_time": "2023-03-14T17:13:26.605Z"
   },
   {
    "duration": 4067,
    "start_time": "2023-03-14T17:13:34.789Z"
   },
   {
    "duration": 2682,
    "start_time": "2023-03-14T17:13:41.947Z"
   },
   {
    "duration": 5443,
    "start_time": "2023-03-14T17:13:51.251Z"
   },
   {
    "duration": 7263,
    "start_time": "2023-03-14T17:14:00.254Z"
   },
   {
    "duration": 8149,
    "start_time": "2023-03-14T17:14:12.406Z"
   },
   {
    "duration": 10879,
    "start_time": "2023-03-14T17:14:25.797Z"
   },
   {
    "duration": 9410,
    "start_time": "2023-03-14T17:14:45.673Z"
   },
   {
    "duration": 11304,
    "start_time": "2023-03-14T17:15:01.155Z"
   },
   {
    "duration": 10908,
    "start_time": "2023-03-14T17:16:06.149Z"
   },
   {
    "duration": 9894,
    "start_time": "2023-03-14T17:16:28.725Z"
   },
   {
    "duration": 10715,
    "start_time": "2023-03-14T17:16:42.870Z"
   },
   {
    "duration": 9172,
    "start_time": "2023-03-14T17:17:01.526Z"
   },
   {
    "duration": 9940,
    "start_time": "2023-03-14T17:17:27.239Z"
   },
   {
    "duration": 10637,
    "start_time": "2023-03-14T17:17:44.170Z"
   },
   {
    "duration": 8865,
    "start_time": "2023-03-14T17:18:00.771Z"
   },
   {
    "duration": 10687,
    "start_time": "2023-03-14T17:18:16.893Z"
   },
   {
    "duration": 9378,
    "start_time": "2023-03-14T17:18:59.134Z"
   },
   {
    "duration": 11000,
    "start_time": "2023-03-14T17:19:16.868Z"
   },
   {
    "duration": 9093,
    "start_time": "2023-03-14T17:19:50.503Z"
   },
   {
    "duration": 1586,
    "start_time": "2023-03-15T09:43:37.986Z"
   },
   {
    "duration": 1809,
    "start_time": "2023-03-15T09:43:39.574Z"
   },
   {
    "duration": 15,
    "start_time": "2023-03-15T09:43:41.385Z"
   },
   {
    "duration": 15,
    "start_time": "2023-03-15T09:43:41.402Z"
   },
   {
    "duration": 9,
    "start_time": "2023-03-15T09:43:41.419Z"
   },
   {
    "duration": 16,
    "start_time": "2023-03-15T09:43:41.429Z"
   },
   {
    "duration": 32,
    "start_time": "2023-03-15T09:43:41.447Z"
   },
   {
    "duration": 12,
    "start_time": "2023-03-15T09:43:41.481Z"
   },
   {
    "duration": 9,
    "start_time": "2023-03-15T09:43:41.495Z"
   },
   {
    "duration": 11,
    "start_time": "2023-03-15T09:43:41.506Z"
   },
   {
    "duration": 13,
    "start_time": "2023-03-15T09:43:41.519Z"
   },
   {
    "duration": 70,
    "start_time": "2023-03-15T09:43:41.534Z"
   },
   {
    "duration": 77,
    "start_time": "2023-03-15T09:43:41.606Z"
   },
   {
    "duration": 49,
    "start_time": "2023-03-15T09:43:41.686Z"
   },
   {
    "duration": 10,
    "start_time": "2023-03-15T09:43:41.736Z"
   },
   {
    "duration": 39,
    "start_time": "2023-03-15T09:43:41.749Z"
   },
   {
    "duration": 9,
    "start_time": "2023-03-15T09:43:41.790Z"
   },
   {
    "duration": 13,
    "start_time": "2023-03-15T09:43:41.801Z"
   },
   {
    "duration": 7,
    "start_time": "2023-03-15T09:43:41.815Z"
   },
   {
    "duration": 5,
    "start_time": "2023-03-15T09:43:41.823Z"
   },
   {
    "duration": 6,
    "start_time": "2023-03-15T09:43:41.857Z"
   },
   {
    "duration": 104,
    "start_time": "2023-03-15T09:43:41.869Z"
   },
   {
    "duration": 107,
    "start_time": "2023-03-15T09:43:41.974Z"
   },
   {
    "duration": 172,
    "start_time": "2023-03-15T09:43:42.085Z"
   },
   {
    "duration": 13246,
    "start_time": "2023-03-15T09:43:42.262Z"
   },
   {
    "duration": 10841,
    "start_time": "2023-03-15T09:43:55.509Z"
   },
   {
    "duration": 13260,
    "start_time": "2023-03-15T09:44:06.352Z"
   },
   {
    "duration": 2,
    "start_time": "2023-03-15T10:23:57.383Z"
   },
   {
    "duration": 4,
    "start_time": "2023-03-15T10:27:46.100Z"
   },
   {
    "duration": 12699,
    "start_time": "2023-03-15T10:32:11.673Z"
   },
   {
    "duration": 3344,
    "start_time": "2023-03-15T10:33:01.307Z"
   },
   {
    "duration": 3230,
    "start_time": "2023-03-15T10:33:45.354Z"
   },
   {
    "duration": 6,
    "start_time": "2023-03-15T10:43:11.927Z"
   },
   {
    "duration": 6,
    "start_time": "2023-03-15T10:43:25.019Z"
   },
   {
    "duration": 5,
    "start_time": "2023-03-15T10:45:53.439Z"
   },
   {
    "duration": 6,
    "start_time": "2023-03-15T10:46:03.021Z"
   },
   {
    "duration": 6,
    "start_time": "2023-03-15T10:46:13.422Z"
   },
   {
    "duration": 6,
    "start_time": "2023-03-15T10:46:31.959Z"
   },
   {
    "duration": 6,
    "start_time": "2023-03-15T10:46:37.873Z"
   },
   {
    "duration": 7,
    "start_time": "2023-03-15T10:46:50.815Z"
   },
   {
    "duration": 8,
    "start_time": "2023-03-15T10:46:56.522Z"
   },
   {
    "duration": 6,
    "start_time": "2023-03-15T10:47:03.114Z"
   },
   {
    "duration": 6,
    "start_time": "2023-03-15T10:47:03.727Z"
   },
   {
    "duration": 6,
    "start_time": "2023-03-15T10:47:09.615Z"
   },
   {
    "duration": 4,
    "start_time": "2023-03-15T11:02:43.014Z"
   },
   {
    "duration": 5,
    "start_time": "2023-03-15T11:03:36.413Z"
   },
   {
    "duration": 7,
    "start_time": "2023-03-15T11:03:37.113Z"
   },
   {
    "duration": 7,
    "start_time": "2023-03-15T11:03:37.585Z"
   },
   {
    "duration": 5,
    "start_time": "2023-03-15T11:04:11.871Z"
   },
   {
    "duration": 6,
    "start_time": "2023-03-15T11:04:12.116Z"
   },
   {
    "duration": 6,
    "start_time": "2023-03-15T11:04:12.423Z"
   },
   {
    "duration": 9,
    "start_time": "2023-03-15T11:06:32.478Z"
   },
   {
    "duration": 1360,
    "start_time": "2023-03-15T11:06:53.274Z"
   },
   {
    "duration": 459,
    "start_time": "2023-03-15T11:06:54.636Z"
   },
   {
    "duration": 12,
    "start_time": "2023-03-15T11:06:55.097Z"
   },
   {
    "duration": 18,
    "start_time": "2023-03-15T11:06:55.111Z"
   },
   {
    "duration": 20,
    "start_time": "2023-03-15T11:06:55.132Z"
   },
   {
    "duration": 38,
    "start_time": "2023-03-15T11:06:55.153Z"
   },
   {
    "duration": 21,
    "start_time": "2023-03-15T11:06:55.192Z"
   },
   {
    "duration": 13,
    "start_time": "2023-03-15T11:06:55.215Z"
   },
   {
    "duration": 9,
    "start_time": "2023-03-15T11:06:55.229Z"
   },
   {
    "duration": 10,
    "start_time": "2023-03-15T11:06:55.239Z"
   },
   {
    "duration": 28,
    "start_time": "2023-03-15T11:06:55.251Z"
   },
   {
    "duration": 45,
    "start_time": "2023-03-15T11:06:55.280Z"
   },
   {
    "duration": 45,
    "start_time": "2023-03-15T11:06:55.327Z"
   },
   {
    "duration": 61,
    "start_time": "2023-03-15T11:06:55.375Z"
   },
   {
    "duration": 10,
    "start_time": "2023-03-15T11:06:55.437Z"
   },
   {
    "duration": 59,
    "start_time": "2023-03-15T11:06:55.455Z"
   },
   {
    "duration": 8,
    "start_time": "2023-03-15T11:06:55.515Z"
   },
   {
    "duration": 23,
    "start_time": "2023-03-15T11:06:55.524Z"
   },
   {
    "duration": 8,
    "start_time": "2023-03-15T11:06:55.549Z"
   },
   {
    "duration": 7,
    "start_time": "2023-03-15T11:06:55.558Z"
   },
   {
    "duration": 6,
    "start_time": "2023-03-15T11:06:55.566Z"
   },
   {
    "duration": 84,
    "start_time": "2023-03-15T11:06:55.573Z"
   },
   {
    "duration": 104,
    "start_time": "2023-03-15T11:06:55.659Z"
   },
   {
    "duration": 98,
    "start_time": "2023-03-15T11:06:55.765Z"
   },
   {
    "duration": 13556,
    "start_time": "2023-03-15T11:06:55.956Z"
   },
   {
    "duration": 10222,
    "start_time": "2023-03-15T11:07:09.513Z"
   },
   {
    "duration": 12882,
    "start_time": "2023-03-15T11:07:19.736Z"
   },
   {
    "duration": 3,
    "start_time": "2023-03-15T11:07:32.620Z"
   },
   {
    "duration": 4,
    "start_time": "2023-03-15T11:07:32.624Z"
   },
   {
    "duration": 6,
    "start_time": "2023-03-15T11:07:32.630Z"
   },
   {
    "duration": 24,
    "start_time": "2023-03-15T11:07:32.637Z"
   },
   {
    "duration": 7,
    "start_time": "2023-03-15T11:07:32.662Z"
   },
   {
    "duration": 6,
    "start_time": "2023-03-15T11:07:32.671Z"
   },
   {
    "duration": 6,
    "start_time": "2023-03-15T11:10:49.660Z"
   },
   {
    "duration": 7,
    "start_time": "2023-03-15T11:11:16.246Z"
   },
   {
    "duration": 6,
    "start_time": "2023-03-15T11:11:44.648Z"
   },
   {
    "duration": 1398,
    "start_time": "2023-03-15T16:22:45.578Z"
   },
   {
    "duration": 440,
    "start_time": "2023-03-15T16:22:46.978Z"
   },
   {
    "duration": 14,
    "start_time": "2023-03-15T16:22:47.419Z"
   },
   {
    "duration": 9,
    "start_time": "2023-03-15T16:22:47.435Z"
   },
   {
    "duration": 19,
    "start_time": "2023-03-15T16:22:47.446Z"
   },
   {
    "duration": 33,
    "start_time": "2023-03-15T16:22:47.466Z"
   },
   {
    "duration": 21,
    "start_time": "2023-03-15T16:22:47.501Z"
   },
   {
    "duration": 22,
    "start_time": "2023-03-15T16:22:47.524Z"
   },
   {
    "duration": 15,
    "start_time": "2023-03-15T16:22:47.548Z"
   },
   {
    "duration": 26,
    "start_time": "2023-03-15T16:22:47.564Z"
   },
   {
    "duration": 8,
    "start_time": "2023-03-15T16:22:47.592Z"
   },
   {
    "duration": 46,
    "start_time": "2023-03-15T16:22:47.602Z"
   },
   {
    "duration": 48,
    "start_time": "2023-03-15T16:22:47.649Z"
   },
   {
    "duration": 39,
    "start_time": "2023-03-15T16:22:47.700Z"
   },
   {
    "duration": 9,
    "start_time": "2023-03-15T16:22:47.755Z"
   },
   {
    "duration": 31,
    "start_time": "2023-03-15T16:22:47.765Z"
   },
   {
    "duration": 7,
    "start_time": "2023-03-15T16:22:47.798Z"
   },
   {
    "duration": 11,
    "start_time": "2023-03-15T16:22:47.806Z"
   },
   {
    "duration": 6,
    "start_time": "2023-03-15T16:22:47.818Z"
   },
   {
    "duration": 5,
    "start_time": "2023-03-15T16:22:47.825Z"
   },
   {
    "duration": 25,
    "start_time": "2023-03-15T16:22:47.831Z"
   },
   {
    "duration": 20,
    "start_time": "2023-03-15T16:22:47.858Z"
   },
   {
    "duration": 80,
    "start_time": "2023-03-15T16:22:47.879Z"
   },
   {
    "duration": 103,
    "start_time": "2023-03-15T16:22:47.961Z"
   },
   {
    "duration": 12416,
    "start_time": "2023-03-15T16:22:48.155Z"
   },
   {
    "duration": 10085,
    "start_time": "2023-03-15T16:23:00.572Z"
   },
   {
    "duration": 12308,
    "start_time": "2023-03-15T16:23:10.658Z"
   },
   {
    "duration": 3,
    "start_time": "2023-03-15T16:23:22.967Z"
   },
   {
    "duration": 4,
    "start_time": "2023-03-15T16:23:22.971Z"
   },
   {
    "duration": 6,
    "start_time": "2023-03-15T16:23:22.977Z"
   },
   {
    "duration": 5,
    "start_time": "2023-03-15T16:23:22.985Z"
   },
   {
    "duration": 5,
    "start_time": "2023-03-15T16:23:22.991Z"
   },
   {
    "duration": 5,
    "start_time": "2023-03-15T16:23:22.998Z"
   },
   {
    "duration": 6,
    "start_time": "2023-03-15T16:23:23.004Z"
   },
   {
    "duration": 48,
    "start_time": "2023-03-15T16:23:23.011Z"
   },
   {
    "duration": 4,
    "start_time": "2023-03-15T16:23:23.060Z"
   },
   {
    "duration": 6,
    "start_time": "2023-03-15T16:23:23.066Z"
   },
   {
    "duration": 121,
    "start_time": "2023-03-15T16:23:37.017Z"
   },
   {
    "duration": 4,
    "start_time": "2023-03-15T16:23:52.683Z"
   },
   {
    "duration": 9,
    "start_time": "2023-03-15T16:23:53.531Z"
   },
   {
    "duration": 10,
    "start_time": "2023-03-15T16:24:12.008Z"
   },
   {
    "duration": 5,
    "start_time": "2023-03-15T16:25:41.636Z"
   },
   {
    "duration": 10,
    "start_time": "2023-03-15T16:25:42.090Z"
   },
   {
    "duration": 5,
    "start_time": "2023-03-15T16:25:58.313Z"
   },
   {
    "duration": 9,
    "start_time": "2023-03-15T16:25:58.807Z"
   },
   {
    "duration": 6,
    "start_time": "2023-03-15T16:27:19.206Z"
   },
   {
    "duration": 6,
    "start_time": "2023-03-15T16:27:29.628Z"
   },
   {
    "duration": 6,
    "start_time": "2023-03-15T16:27:30.319Z"
   },
   {
    "duration": 4,
    "start_time": "2023-03-15T16:27:40.626Z"
   },
   {
    "duration": 10,
    "start_time": "2023-03-15T16:27:41.040Z"
   },
   {
    "duration": 7,
    "start_time": "2023-03-15T16:27:58.422Z"
   },
   {
    "duration": 8,
    "start_time": "2023-03-15T16:27:58.850Z"
   },
   {
    "duration": 8,
    "start_time": "2023-03-15T16:27:59.258Z"
   },
   {
    "duration": 4,
    "start_time": "2023-03-15T16:28:07.979Z"
   },
   {
    "duration": 9,
    "start_time": "2023-03-15T16:28:08.419Z"
   },
   {
    "duration": 6,
    "start_time": "2023-03-15T16:29:01.939Z"
   },
   {
    "duration": 8,
    "start_time": "2023-03-15T16:29:02.408Z"
   },
   {
    "duration": 7,
    "start_time": "2023-03-15T16:29:02.950Z"
   },
   {
    "duration": 4,
    "start_time": "2023-03-15T16:29:13.309Z"
   },
   {
    "duration": 3,
    "start_time": "2023-03-15T16:29:29.100Z"
   },
   {
    "duration": 11,
    "start_time": "2023-03-15T16:29:41.727Z"
   },
   {
    "duration": 10,
    "start_time": "2023-03-15T16:29:52.610Z"
   },
   {
    "duration": 10,
    "start_time": "2023-03-15T16:29:52.948Z"
   },
   {
    "duration": 7,
    "start_time": "2023-03-15T16:29:53.301Z"
   },
   {
    "duration": 4,
    "start_time": "2023-03-15T16:29:54.131Z"
   },
   {
    "duration": 5,
    "start_time": "2023-03-15T16:29:54.574Z"
   },
   {
    "duration": 13,
    "start_time": "2023-03-15T16:29:55.180Z"
   },
   {
    "duration": 4,
    "start_time": "2023-03-15T16:29:58.375Z"
   },
   {
    "duration": 9,
    "start_time": "2023-03-15T16:29:58.864Z"
   },
   {
    "duration": 1375,
    "start_time": "2023-03-15T16:30:39.603Z"
   },
   {
    "duration": 452,
    "start_time": "2023-03-15T16:30:40.979Z"
   },
   {
    "duration": 13,
    "start_time": "2023-03-15T16:30:41.434Z"
   },
   {
    "duration": 13,
    "start_time": "2023-03-15T16:30:41.448Z"
   },
   {
    "duration": 11,
    "start_time": "2023-03-15T16:30:41.464Z"
   },
   {
    "duration": 26,
    "start_time": "2023-03-15T16:30:41.477Z"
   },
   {
    "duration": 20,
    "start_time": "2023-03-15T16:30:41.505Z"
   },
   {
    "duration": 43,
    "start_time": "2023-03-15T16:30:41.526Z"
   },
   {
    "duration": 14,
    "start_time": "2023-03-15T16:30:41.571Z"
   },
   {
    "duration": 11,
    "start_time": "2023-03-15T16:30:41.589Z"
   },
   {
    "duration": 13,
    "start_time": "2023-03-15T16:30:41.602Z"
   },
   {
    "duration": 86,
    "start_time": "2023-03-15T16:30:41.617Z"
   },
   {
    "duration": 72,
    "start_time": "2023-03-15T16:30:41.705Z"
   },
   {
    "duration": 62,
    "start_time": "2023-03-15T16:30:41.781Z"
   },
   {
    "duration": 12,
    "start_time": "2023-03-15T16:30:41.854Z"
   },
   {
    "duration": 51,
    "start_time": "2023-03-15T16:30:41.868Z"
   },
   {
    "duration": 9,
    "start_time": "2023-03-15T16:30:41.921Z"
   },
   {
    "duration": 25,
    "start_time": "2023-03-15T16:30:41.931Z"
   },
   {
    "duration": 4,
    "start_time": "2023-03-15T16:30:41.957Z"
   },
   {
    "duration": 5,
    "start_time": "2023-03-15T16:30:41.963Z"
   },
   {
    "duration": 7,
    "start_time": "2023-03-15T16:30:41.969Z"
   },
   {
    "duration": 82,
    "start_time": "2023-03-15T16:30:41.978Z"
   },
   {
    "duration": 193,
    "start_time": "2023-03-15T16:30:42.061Z"
   },
   {
    "duration": 103,
    "start_time": "2023-03-15T16:30:42.257Z"
   },
   {
    "duration": 2,
    "start_time": "2023-03-15T16:30:42.362Z"
   },
   {
    "duration": 3,
    "start_time": "2023-03-15T16:30:42.366Z"
   },
   {
    "duration": 92,
    "start_time": "2023-03-15T16:30:42.370Z"
   },
   {
    "duration": 5,
    "start_time": "2023-03-15T16:30:42.464Z"
   },
   {
    "duration": 4,
    "start_time": "2023-03-15T16:30:42.471Z"
   },
   {
    "duration": 80,
    "start_time": "2023-03-15T16:30:42.477Z"
   },
   {
    "duration": 7,
    "start_time": "2023-03-15T16:30:42.558Z"
   },
   {
    "duration": 6,
    "start_time": "2023-03-15T16:30:42.566Z"
   },
   {
    "duration": 6,
    "start_time": "2023-03-15T16:30:42.574Z"
   },
   {
    "duration": 6,
    "start_time": "2023-03-15T16:30:42.582Z"
   },
   {
    "duration": 8,
    "start_time": "2023-03-15T16:30:42.590Z"
   },
   {
    "duration": 6,
    "start_time": "2023-03-15T16:30:42.599Z"
   },
   {
    "duration": 52,
    "start_time": "2023-03-15T16:30:42.607Z"
   },
   {
    "duration": 4,
    "start_time": "2023-03-15T16:30:42.662Z"
   },
   {
    "duration": 10,
    "start_time": "2023-03-15T16:30:51.724Z"
   },
   {
    "duration": 1498,
    "start_time": "2023-03-15T16:31:36.021Z"
   },
   {
    "duration": 571,
    "start_time": "2023-03-15T16:31:37.520Z"
   },
   {
    "duration": 14,
    "start_time": "2023-03-15T16:31:38.093Z"
   },
   {
    "duration": 22,
    "start_time": "2023-03-15T16:31:38.108Z"
   },
   {
    "duration": 8,
    "start_time": "2023-03-15T16:31:38.132Z"
   },
   {
    "duration": 20,
    "start_time": "2023-03-15T16:31:38.141Z"
   },
   {
    "duration": 26,
    "start_time": "2023-03-15T16:31:38.163Z"
   },
   {
    "duration": 13,
    "start_time": "2023-03-15T16:31:38.191Z"
   },
   {
    "duration": 9,
    "start_time": "2023-03-15T16:31:38.206Z"
   },
   {
    "duration": 9,
    "start_time": "2023-03-15T16:31:38.217Z"
   },
   {
    "duration": 36,
    "start_time": "2023-03-15T16:31:38.228Z"
   },
   {
    "duration": 47,
    "start_time": "2023-03-15T16:31:38.266Z"
   },
   {
    "duration": 53,
    "start_time": "2023-03-15T16:31:38.315Z"
   },
   {
    "duration": 47,
    "start_time": "2023-03-15T16:31:38.371Z"
   },
   {
    "duration": 10,
    "start_time": "2023-03-15T16:31:38.420Z"
   },
   {
    "duration": 52,
    "start_time": "2023-03-15T16:31:38.431Z"
   },
   {
    "duration": 9,
    "start_time": "2023-03-15T16:31:38.485Z"
   },
   {
    "duration": 26,
    "start_time": "2023-03-15T16:31:38.495Z"
   },
   {
    "duration": 7,
    "start_time": "2023-03-15T16:31:38.523Z"
   },
   {
    "duration": 5,
    "start_time": "2023-03-15T16:31:38.531Z"
   },
   {
    "duration": 10,
    "start_time": "2023-03-15T16:31:38.537Z"
   },
   {
    "duration": 108,
    "start_time": "2023-03-15T16:31:38.548Z"
   },
   {
    "duration": 111,
    "start_time": "2023-03-15T16:31:38.657Z"
   },
   {
    "duration": 94,
    "start_time": "2023-03-15T16:31:38.770Z"
   },
   {
    "duration": 4,
    "start_time": "2023-03-15T16:31:38.866Z"
   },
   {
    "duration": 6,
    "start_time": "2023-03-15T16:31:38.878Z"
   },
   {
    "duration": 3,
    "start_time": "2023-03-15T16:31:38.886Z"
   },
   {
    "duration": 9,
    "start_time": "2023-03-15T16:31:38.956Z"
   },
   {
    "duration": 5,
    "start_time": "2023-03-15T16:31:38.972Z"
   },
   {
    "duration": 81,
    "start_time": "2023-03-15T16:31:38.979Z"
   },
   {
    "duration": 18,
    "start_time": "2023-03-15T16:31:39.062Z"
   },
   {
    "duration": 9,
    "start_time": "2023-03-15T16:31:39.085Z"
   },
   {
    "duration": 8,
    "start_time": "2023-03-15T16:31:39.095Z"
   },
   {
    "duration": 8,
    "start_time": "2023-03-15T16:31:39.104Z"
   },
   {
    "duration": 16,
    "start_time": "2023-03-15T16:31:39.114Z"
   },
   {
    "duration": 12,
    "start_time": "2023-03-15T16:31:39.132Z"
   },
   {
    "duration": 18,
    "start_time": "2023-03-15T16:31:39.145Z"
   },
   {
    "duration": 19,
    "start_time": "2023-03-15T16:31:39.166Z"
   },
   {
    "duration": 3,
    "start_time": "2023-03-15T16:31:39.187Z"
   },
   {
    "duration": 12,
    "start_time": "2023-03-15T16:31:39.191Z"
   },
   {
    "duration": 5,
    "start_time": "2023-03-15T16:32:05.674Z"
   },
   {
    "duration": 8,
    "start_time": "2023-03-15T16:32:06.132Z"
   },
   {
    "duration": 4,
    "start_time": "2023-03-15T16:32:39.976Z"
   },
   {
    "duration": 9,
    "start_time": "2023-03-15T16:32:40.523Z"
   },
   {
    "duration": 10,
    "start_time": "2023-03-15T16:32:41.354Z"
   },
   {
    "duration": 9,
    "start_time": "2023-03-15T16:32:41.795Z"
   },
   {
    "duration": 5,
    "start_time": "2023-03-15T16:32:48.016Z"
   },
   {
    "duration": 8,
    "start_time": "2023-03-15T16:32:48.377Z"
   },
   {
    "duration": 4,
    "start_time": "2023-03-15T16:33:53.252Z"
   },
   {
    "duration": 9,
    "start_time": "2023-03-15T16:33:53.572Z"
   },
   {
    "duration": 9,
    "start_time": "2023-03-15T16:33:59.361Z"
   },
   {
    "duration": 3,
    "start_time": "2023-03-15T16:34:19.566Z"
   },
   {
    "duration": 9,
    "start_time": "2023-03-15T16:34:19.981Z"
   },
   {
    "duration": 4,
    "start_time": "2023-03-15T16:34:25.180Z"
   },
   {
    "duration": 9,
    "start_time": "2023-03-15T16:34:25.464Z"
   },
   {
    "duration": 5,
    "start_time": "2023-03-15T16:34:35.365Z"
   },
   {
    "duration": 10,
    "start_time": "2023-03-15T16:34:35.583Z"
   },
   {
    "duration": 5,
    "start_time": "2023-03-15T16:35:55.315Z"
   },
   {
    "duration": 5,
    "start_time": "2023-03-15T16:35:55.776Z"
   },
   {
    "duration": 5,
    "start_time": "2023-03-15T16:35:56.308Z"
   },
   {
    "duration": 13,
    "start_time": "2023-03-15T16:35:56.886Z"
   },
   {
    "duration": 117,
    "start_time": "2023-03-15T16:37:57.791Z"
   },
   {
    "duration": 4,
    "start_time": "2023-03-15T16:38:00.870Z"
   },
   {
    "duration": 10,
    "start_time": "2023-03-15T16:38:01.237Z"
   },
   {
    "duration": 4,
    "start_time": "2023-03-15T16:38:10.625Z"
   },
   {
    "duration": 9,
    "start_time": "2023-03-15T16:38:10.904Z"
   },
   {
    "duration": 9,
    "start_time": "2023-03-15T16:38:24.356Z"
   },
   {
    "duration": 4,
    "start_time": "2023-03-15T16:38:25.880Z"
   },
   {
    "duration": 9,
    "start_time": "2023-03-15T16:38:26.044Z"
   },
   {
    "duration": 7,
    "start_time": "2023-03-15T16:40:11.734Z"
   },
   {
    "duration": 8,
    "start_time": "2023-03-15T16:40:12.171Z"
   },
   {
    "duration": 5,
    "start_time": "2023-03-15T16:40:12.546Z"
   },
   {
    "duration": 6,
    "start_time": "2023-03-15T16:41:14.336Z"
   },
   {
    "duration": 6,
    "start_time": "2023-03-15T16:41:14.843Z"
   },
   {
    "duration": 6,
    "start_time": "2023-03-15T16:41:15.513Z"
   },
   {
    "duration": 4,
    "start_time": "2023-03-15T16:50:03.628Z"
   },
   {
    "duration": 22,
    "start_time": "2023-03-15T16:52:57.104Z"
   },
   {
    "duration": 4,
    "start_time": "2023-03-15T16:53:12.847Z"
   },
   {
    "duration": 21,
    "start_time": "2023-03-15T16:53:13.558Z"
   },
   {
    "duration": 6899,
    "start_time": "2023-03-15T17:04:25.197Z"
   },
   {
    "duration": 1329,
    "start_time": "2023-03-15T17:04:43.846Z"
   },
   {
    "duration": 8,
    "start_time": "2023-03-15T17:12:32.479Z"
   },
   {
    "duration": 7,
    "start_time": "2023-03-15T17:13:10.996Z"
   },
   {
    "duration": 12,
    "start_time": "2023-03-15T17:13:33.402Z"
   },
   {
    "duration": 16,
    "start_time": "2023-03-15T17:13:42.540Z"
   },
   {
    "duration": 3,
    "start_time": "2023-03-15T17:16:51.887Z"
   },
   {
    "duration": 3,
    "start_time": "2023-03-15T17:32:03.936Z"
   },
   {
    "duration": 4,
    "start_time": "2023-03-15T17:32:05.156Z"
   },
   {
    "duration": 9,
    "start_time": "2023-03-15T17:33:35.484Z"
   },
   {
    "duration": 3,
    "start_time": "2023-03-15T17:38:03.525Z"
   },
   {
    "duration": 4,
    "start_time": "2023-03-15T17:38:34.868Z"
   },
   {
    "duration": 4,
    "start_time": "2023-03-15T17:39:44.576Z"
   },
   {
    "duration": 10,
    "start_time": "2023-03-15T17:39:48.324Z"
   },
   {
    "duration": 3,
    "start_time": "2023-03-15T17:40:01.027Z"
   },
   {
    "duration": 4,
    "start_time": "2023-03-15T17:40:01.290Z"
   },
   {
    "duration": 10,
    "start_time": "2023-03-15T17:40:01.709Z"
   },
   {
    "duration": 3,
    "start_time": "2023-03-15T17:40:34.090Z"
   },
   {
    "duration": 10,
    "start_time": "2023-03-15T17:41:00.018Z"
   },
   {
    "duration": 5,
    "start_time": "2023-03-15T17:45:32.741Z"
   },
   {
    "duration": 9,
    "start_time": "2023-03-15T17:45:33.206Z"
   },
   {
    "duration": 5,
    "start_time": "2023-03-15T17:45:58.389Z"
   },
   {
    "duration": 9,
    "start_time": "2023-03-15T17:45:58.726Z"
   },
   {
    "duration": 4,
    "start_time": "2023-03-15T17:45:59.001Z"
   },
   {
    "duration": 9,
    "start_time": "2023-03-15T17:45:59.443Z"
   },
   {
    "duration": 6,
    "start_time": "2023-03-15T17:45:59.967Z"
   },
   {
    "duration": 10,
    "start_time": "2023-03-15T17:46:00.682Z"
   },
   {
    "duration": 4,
    "start_time": "2023-03-15T17:47:06.074Z"
   },
   {
    "duration": 5,
    "start_time": "2023-03-15T17:47:16.263Z"
   },
   {
    "duration": 9,
    "start_time": "2023-03-15T17:47:16.668Z"
   },
   {
    "duration": 4,
    "start_time": "2023-03-15T17:47:30.717Z"
   },
   {
    "duration": 5,
    "start_time": "2023-03-15T17:47:42.124Z"
   },
   {
    "duration": 4,
    "start_time": "2023-03-15T17:47:43.464Z"
   },
   {
    "duration": 4,
    "start_time": "2023-03-15T17:47:53.205Z"
   },
   {
    "duration": 4,
    "start_time": "2023-03-15T17:48:01.897Z"
   },
   {
    "duration": 3,
    "start_time": "2023-03-15T17:54:53.433Z"
   },
   {
    "duration": 17,
    "start_time": "2023-03-15T17:56:03.201Z"
   },
   {
    "duration": 3,
    "start_time": "2023-03-15T17:56:05.093Z"
   },
   {
    "duration": 18,
    "start_time": "2023-03-15T17:56:05.290Z"
   },
   {
    "duration": 4,
    "start_time": "2023-03-15T17:56:24.808Z"
   },
   {
    "duration": 8,
    "start_time": "2023-03-15T17:56:25.089Z"
   },
   {
    "duration": 17,
    "start_time": "2023-03-15T17:57:08.251Z"
   },
   {
    "duration": 63,
    "start_time": "2023-03-16T08:29:08.051Z"
   },
   {
    "duration": 1648,
    "start_time": "2023-03-16T08:29:09.422Z"
   },
   {
    "duration": 4,
    "start_time": "2023-03-16T08:29:11.072Z"
   },
   {
    "duration": 1390,
    "start_time": "2023-03-16T08:29:13.841Z"
   },
   {
    "duration": 3,
    "start_time": "2023-03-16T08:29:15.233Z"
   },
   {
    "duration": 1931,
    "start_time": "2023-03-16T08:29:15.237Z"
   },
   {
    "duration": 12,
    "start_time": "2023-03-16T08:29:17.170Z"
   },
   {
    "duration": 9,
    "start_time": "2023-03-16T08:29:17.185Z"
   },
   {
    "duration": 13,
    "start_time": "2023-03-16T08:29:17.195Z"
   },
   {
    "duration": 16,
    "start_time": "2023-03-16T08:29:17.209Z"
   },
   {
    "duration": 37,
    "start_time": "2023-03-16T08:29:17.227Z"
   },
   {
    "duration": 14,
    "start_time": "2023-03-16T08:29:17.265Z"
   },
   {
    "duration": 13,
    "start_time": "2023-03-16T08:29:17.281Z"
   },
   {
    "duration": 9,
    "start_time": "2023-03-16T08:29:17.296Z"
   },
   {
    "duration": 9,
    "start_time": "2023-03-16T08:29:17.306Z"
   },
   {
    "duration": 75,
    "start_time": "2023-03-16T08:29:17.317Z"
   },
   {
    "duration": 44,
    "start_time": "2023-03-16T08:29:17.395Z"
   },
   {
    "duration": 53,
    "start_time": "2023-03-16T08:29:17.441Z"
   },
   {
    "duration": 9,
    "start_time": "2023-03-16T08:29:17.496Z"
   },
   {
    "duration": 35,
    "start_time": "2023-03-16T08:29:17.506Z"
   },
   {
    "duration": 17,
    "start_time": "2023-03-16T08:29:17.555Z"
   },
   {
    "duration": 11,
    "start_time": "2023-03-16T08:29:17.574Z"
   },
   {
    "duration": 5,
    "start_time": "2023-03-16T08:29:17.587Z"
   },
   {
    "duration": 4,
    "start_time": "2023-03-16T08:29:17.594Z"
   },
   {
    "duration": 4,
    "start_time": "2023-03-16T08:29:17.599Z"
   },
   {
    "duration": 3,
    "start_time": "2023-03-16T08:29:17.604Z"
   },
   {
    "duration": 67,
    "start_time": "2023-03-16T08:29:17.608Z"
   },
   {
    "duration": 95,
    "start_time": "2023-03-16T08:29:17.677Z"
   },
   {
    "duration": 94,
    "start_time": "2023-03-16T08:29:17.774Z"
   },
   {
    "duration": 3,
    "start_time": "2023-03-16T08:29:17.876Z"
   },
   {
    "duration": 89,
    "start_time": "2023-03-16T08:29:17.880Z"
   },
   {
    "duration": 4,
    "start_time": "2023-03-16T08:29:17.971Z"
   },
   {
    "duration": 87,
    "start_time": "2023-03-16T08:29:17.977Z"
   },
   {
    "duration": 7,
    "start_time": "2023-03-16T08:29:18.066Z"
   },
   {
    "duration": 6,
    "start_time": "2023-03-16T08:29:18.075Z"
   },
   {
    "duration": 3,
    "start_time": "2023-03-16T08:29:18.082Z"
   },
   {
    "duration": 8,
    "start_time": "2023-03-16T08:29:18.087Z"
   },
   {
    "duration": 6,
    "start_time": "2023-03-16T08:29:18.096Z"
   },
   {
    "duration": 9,
    "start_time": "2023-03-16T08:29:18.103Z"
   },
   {
    "duration": 3,
    "start_time": "2023-03-16T08:29:18.114Z"
   },
   {
    "duration": 151,
    "start_time": "2023-03-16T08:29:18.118Z"
   },
   {
    "duration": 0,
    "start_time": "2023-03-16T08:29:18.271Z"
   },
   {
    "duration": 0,
    "start_time": "2023-03-16T08:29:18.272Z"
   },
   {
    "duration": 1845,
    "start_time": "2023-03-16T10:18:07.791Z"
   },
   {
    "duration": 4,
    "start_time": "2023-03-16T10:18:09.639Z"
   },
   {
    "duration": 887,
    "start_time": "2023-03-16T10:18:09.645Z"
   },
   {
    "duration": 17,
    "start_time": "2023-03-16T10:18:10.534Z"
   },
   {
    "duration": 16,
    "start_time": "2023-03-16T10:18:10.553Z"
   },
   {
    "duration": 26,
    "start_time": "2023-03-16T10:18:10.572Z"
   },
   {
    "duration": 30,
    "start_time": "2023-03-16T10:18:10.600Z"
   },
   {
    "duration": 39,
    "start_time": "2023-03-16T10:18:10.633Z"
   },
   {
    "duration": 25,
    "start_time": "2023-03-16T10:18:10.678Z"
   },
   {
    "duration": 24,
    "start_time": "2023-03-16T10:18:10.705Z"
   },
   {
    "duration": 18,
    "start_time": "2023-03-16T10:18:10.731Z"
   },
   {
    "duration": 32,
    "start_time": "2023-03-16T10:18:10.751Z"
   },
   {
    "duration": 93,
    "start_time": "2023-03-16T10:18:10.786Z"
   },
   {
    "duration": 52,
    "start_time": "2023-03-16T10:18:10.884Z"
   },
   {
    "duration": 82,
    "start_time": "2023-03-16T10:18:10.938Z"
   },
   {
    "duration": 12,
    "start_time": "2023-03-16T10:18:11.021Z"
   },
   {
    "duration": 67,
    "start_time": "2023-03-16T10:18:11.035Z"
   },
   {
    "duration": 10,
    "start_time": "2023-03-16T10:18:11.104Z"
   },
   {
    "duration": 28,
    "start_time": "2023-03-16T10:18:11.116Z"
   },
   {
    "duration": 14,
    "start_time": "2023-03-16T10:18:11.146Z"
   },
   {
    "duration": 29,
    "start_time": "2023-03-16T10:18:11.162Z"
   },
   {
    "duration": 27,
    "start_time": "2023-03-16T10:18:11.193Z"
   },
   {
    "duration": 10,
    "start_time": "2023-03-16T10:18:11.221Z"
   },
   {
    "duration": 37,
    "start_time": "2023-03-16T10:18:11.233Z"
   },
   {
    "duration": 217,
    "start_time": "2023-03-16T10:18:11.272Z"
   },
   {
    "duration": 187,
    "start_time": "2023-03-16T10:18:11.491Z"
   },
   {
    "duration": 184,
    "start_time": "2023-03-16T10:18:11.681Z"
   },
   {
    "duration": 20,
    "start_time": "2023-03-16T10:18:11.867Z"
   },
   {
    "duration": 22,
    "start_time": "2023-03-16T10:18:11.889Z"
   },
   {
    "duration": 12,
    "start_time": "2023-03-16T10:18:11.913Z"
   },
   {
    "duration": 17,
    "start_time": "2023-03-16T10:18:11.927Z"
   },
   {
    "duration": 22,
    "start_time": "2023-03-16T10:18:11.946Z"
   },
   {
    "duration": 36,
    "start_time": "2023-03-16T10:18:11.970Z"
   },
   {
    "duration": 19,
    "start_time": "2023-03-16T10:18:12.008Z"
   },
   {
    "duration": 15,
    "start_time": "2023-03-16T10:18:12.029Z"
   },
   {
    "duration": 10,
    "start_time": "2023-03-16T10:18:12.046Z"
   },
   {
    "duration": 34,
    "start_time": "2023-03-16T10:18:12.058Z"
   },
   {
    "duration": 152,
    "start_time": "2023-03-16T10:18:12.093Z"
   },
   {
    "duration": 0,
    "start_time": "2023-03-16T10:18:12.247Z"
   },
   {
    "duration": 1,
    "start_time": "2023-03-16T10:18:12.249Z"
   },
   {
    "duration": 0,
    "start_time": "2023-03-16T10:18:12.251Z"
   },
   {
    "duration": 6,
    "start_time": "2023-03-16T10:18:20.883Z"
   },
   {
    "duration": 5,
    "start_time": "2023-03-16T10:18:34.046Z"
   },
   {
    "duration": 5,
    "start_time": "2023-03-16T10:18:56.590Z"
   },
   {
    "duration": 12,
    "start_time": "2023-03-16T10:19:09.458Z"
   },
   {
    "duration": 6,
    "start_time": "2023-03-16T10:21:17.386Z"
   },
   {
    "duration": 12,
    "start_time": "2023-03-16T10:29:25.994Z"
   },
   {
    "duration": 11,
    "start_time": "2023-03-16T10:30:27.083Z"
   },
   {
    "duration": 18,
    "start_time": "2023-03-16T10:31:39.121Z"
   },
   {
    "duration": 17,
    "start_time": "2023-03-16T10:32:11.810Z"
   },
   {
    "duration": 16,
    "start_time": "2023-03-16T10:32:15.986Z"
   },
   {
    "duration": 1023,
    "start_time": "2023-03-16T10:34:45.944Z"
   },
   {
    "duration": 16,
    "start_time": "2023-03-16T10:34:47.115Z"
   },
   {
    "duration": 1502,
    "start_time": "2023-03-16T10:35:11.706Z"
   },
   {
    "duration": 19,
    "start_time": "2023-03-16T10:37:32.063Z"
   },
   {
    "duration": 13,
    "start_time": "2023-03-16T10:38:02.359Z"
   },
   {
    "duration": 13,
    "start_time": "2023-03-16T10:38:07.442Z"
   },
   {
    "duration": 12,
    "start_time": "2023-03-16T10:38:44.135Z"
   },
   {
    "duration": 11,
    "start_time": "2023-03-16T10:39:09.791Z"
   },
   {
    "duration": 4,
    "start_time": "2023-03-16T10:43:30.827Z"
   },
   {
    "duration": 16,
    "start_time": "2023-03-16T10:43:38.314Z"
   },
   {
    "duration": 4,
    "start_time": "2023-03-16T10:44:44.947Z"
   },
   {
    "duration": 8,
    "start_time": "2023-03-16T10:44:45.331Z"
   },
   {
    "duration": 13,
    "start_time": "2023-03-16T10:44:47.115Z"
   },
   {
    "duration": 13,
    "start_time": "2023-03-16T10:45:03.754Z"
   },
   {
    "duration": 1572,
    "start_time": "2023-03-16T10:45:26.607Z"
   },
   {
    "duration": 1498,
    "start_time": "2023-03-16T10:45:55.882Z"
   },
   {
    "duration": 1495,
    "start_time": "2023-03-16T10:46:08.300Z"
   },
   {
    "duration": 1463,
    "start_time": "2023-03-16T10:46:48.707Z"
   },
   {
    "duration": 1445,
    "start_time": "2023-03-16T10:46:58.490Z"
   },
   {
    "duration": 14,
    "start_time": "2023-03-16T10:48:36.871Z"
   },
   {
    "duration": 4,
    "start_time": "2023-03-16T10:49:15.543Z"
   },
   {
    "duration": 1637,
    "start_time": "2023-03-16T10:50:37.572Z"
   },
   {
    "duration": 1680,
    "start_time": "2023-03-16T10:54:13.982Z"
   },
   {
    "duration": 3211,
    "start_time": "2023-03-16T10:55:10.965Z"
   },
   {
    "duration": 3440,
    "start_time": "2023-03-16T10:56:27.123Z"
   },
   {
    "duration": 1804,
    "start_time": "2023-03-16T10:56:56.686Z"
   },
   {
    "duration": 35,
    "start_time": "2023-03-16T10:56:59.118Z"
   },
   {
    "duration": 1672,
    "start_time": "2023-03-16T10:57:19.143Z"
   },
   {
    "duration": 16,
    "start_time": "2023-03-16T10:57:20.817Z"
   },
   {
    "duration": 1945,
    "start_time": "2023-03-16T10:58:02.585Z"
   },
   {
    "duration": 1906,
    "start_time": "2023-03-16T10:58:38.827Z"
   },
   {
    "duration": 67,
    "start_time": "2023-03-16T11:00:43.907Z"
   },
   {
    "duration": 1632,
    "start_time": "2023-03-16T11:00:51.123Z"
   },
   {
    "duration": 1590,
    "start_time": "2023-03-16T11:01:19.530Z"
   },
   {
    "duration": 1594,
    "start_time": "2023-03-16T11:01:21.122Z"
   },
   {
    "duration": 1961,
    "start_time": "2023-03-16T11:02:13.438Z"
   },
   {
    "duration": 1743,
    "start_time": "2023-03-16T11:02:15.402Z"
   },
   {
    "duration": 1676,
    "start_time": "2023-03-16T11:02:17.147Z"
   },
   {
    "duration": 2773,
    "start_time": "2023-03-16T11:08:33.283Z"
   },
   {
    "duration": 1845,
    "start_time": "2023-03-16T11:09:44.951Z"
   },
   {
    "duration": 1696,
    "start_time": "2023-03-16T11:10:30.184Z"
   },
   {
    "duration": 1631,
    "start_time": "2023-03-16T11:11:00.692Z"
   },
   {
    "duration": 1813,
    "start_time": "2023-03-16T11:15:00.303Z"
   },
   {
    "duration": 2005,
    "start_time": "2023-03-16T11:15:40.790Z"
   },
   {
    "duration": 2193,
    "start_time": "2023-03-16T11:15:46.723Z"
   },
   {
    "duration": 2187,
    "start_time": "2023-03-16T11:17:13.532Z"
   },
   {
    "duration": 1859,
    "start_time": "2023-03-16T11:17:29.727Z"
   },
   {
    "duration": 49,
    "start_time": "2023-03-16T11:18:31.604Z"
   },
   {
    "duration": 2000,
    "start_time": "2023-03-16T11:18:38.697Z"
   },
   {
    "duration": 2070,
    "start_time": "2023-03-16T11:18:59.982Z"
   },
   {
    "duration": 2054,
    "start_time": "2023-03-16T11:19:15.902Z"
   },
   {
    "duration": 2316,
    "start_time": "2023-03-17T06:04:26.642Z"
   },
   {
    "duration": 3,
    "start_time": "2023-03-17T06:04:28.961Z"
   },
   {
    "duration": 544,
    "start_time": "2023-03-17T06:04:28.966Z"
   },
   {
    "duration": 17,
    "start_time": "2023-03-17T06:04:29.513Z"
   },
   {
    "duration": 24,
    "start_time": "2023-03-17T06:04:29.533Z"
   },
   {
    "duration": 32,
    "start_time": "2023-03-17T06:04:29.559Z"
   },
   {
    "duration": 32,
    "start_time": "2023-03-17T06:04:29.594Z"
   },
   {
    "duration": 17,
    "start_time": "2023-03-17T06:04:29.629Z"
   },
   {
    "duration": 41,
    "start_time": "2023-03-17T06:04:29.649Z"
   },
   {
    "duration": 12,
    "start_time": "2023-03-17T06:04:29.693Z"
   },
   {
    "duration": 28,
    "start_time": "2023-03-17T06:04:29.707Z"
   },
   {
    "duration": 18,
    "start_time": "2023-03-17T06:04:29.738Z"
   },
   {
    "duration": 70,
    "start_time": "2023-03-17T06:04:29.758Z"
   },
   {
    "duration": 70,
    "start_time": "2023-03-17T06:04:29.829Z"
   },
   {
    "duration": 51,
    "start_time": "2023-03-17T06:04:29.901Z"
   },
   {
    "duration": 12,
    "start_time": "2023-03-17T06:04:29.954Z"
   },
   {
    "duration": 74,
    "start_time": "2023-03-17T06:04:29.968Z"
   },
   {
    "duration": 14,
    "start_time": "2023-03-17T06:04:30.044Z"
   },
   {
    "duration": 44,
    "start_time": "2023-03-17T06:04:30.060Z"
   },
   {
    "duration": 14,
    "start_time": "2023-03-17T06:04:30.106Z"
   },
   {
    "duration": 14,
    "start_time": "2023-03-17T06:04:30.122Z"
   },
   {
    "duration": 18,
    "start_time": "2023-03-17T06:04:30.138Z"
   },
   {
    "duration": 12,
    "start_time": "2023-03-17T06:04:30.158Z"
   },
   {
    "duration": 38,
    "start_time": "2023-03-17T06:04:30.172Z"
   },
   {
    "duration": 95,
    "start_time": "2023-03-17T06:04:30.212Z"
   },
   {
    "duration": 116,
    "start_time": "2023-03-17T06:04:30.391Z"
   },
   {
    "duration": 81,
    "start_time": "2023-03-17T06:04:30.511Z"
   },
   {
    "duration": 103,
    "start_time": "2023-03-17T06:04:30.602Z"
   },
   {
    "duration": 29,
    "start_time": "2023-03-17T06:04:30.707Z"
   },
   {
    "duration": 34,
    "start_time": "2023-03-17T06:04:30.739Z"
   },
   {
    "duration": 44,
    "start_time": "2023-03-17T06:04:30.776Z"
   },
   {
    "duration": 36,
    "start_time": "2023-03-17T06:04:30.822Z"
   },
   {
    "duration": 52,
    "start_time": "2023-03-17T06:04:30.859Z"
   },
   {
    "duration": 47,
    "start_time": "2023-03-17T06:04:30.913Z"
   },
   {
    "duration": 31,
    "start_time": "2023-03-17T06:04:30.962Z"
   },
   {
    "duration": 26,
    "start_time": "2023-03-17T06:04:30.995Z"
   },
   {
    "duration": 17,
    "start_time": "2023-03-17T06:04:31.023Z"
   },
   {
    "duration": 36,
    "start_time": "2023-03-17T06:04:31.043Z"
   },
   {
    "duration": 37,
    "start_time": "2023-03-17T06:04:31.081Z"
   },
   {
    "duration": 51,
    "start_time": "2023-03-17T06:04:31.120Z"
   },
   {
    "duration": 55,
    "start_time": "2023-03-17T06:04:31.174Z"
   },
   {
    "duration": 63,
    "start_time": "2023-03-17T06:04:31.231Z"
   },
   {
    "duration": 1557,
    "start_time": "2023-03-17T06:04:31.300Z"
   },
   {
    "duration": 1692,
    "start_time": "2023-03-17T06:04:32.859Z"
   },
   {
    "duration": 1617,
    "start_time": "2023-03-17T06:04:34.553Z"
   },
   {
    "duration": 9,
    "start_time": "2023-03-17T06:05:14.125Z"
   }
  ],
  "kernelspec": {
   "display_name": "Python 3 (ipykernel)",
   "language": "python",
   "name": "python3"
  },
  "language_info": {
   "codemirror_mode": {
    "name": "ipython",
    "version": 3
   },
   "file_extension": ".py",
   "mimetype": "text/x-python",
   "name": "python",
   "nbconvert_exporter": "python",
   "pygments_lexer": "ipython3",
   "version": "3.9.5"
  },
  "toc": {
   "base_numbering": 1,
   "nav_menu": {},
   "number_sections": true,
   "sideBar": true,
   "skip_h1_title": true,
   "title_cell": "Table of Contents",
   "title_sidebar": "Contents",
   "toc_cell": false,
   "toc_position": {},
   "toc_section_display": true,
   "toc_window_display": true
  }
 },
 "nbformat": 4,
 "nbformat_minor": 2
}
